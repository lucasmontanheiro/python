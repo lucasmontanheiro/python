{
 "cells": [
  {
   "cell_type": "markdown",
   "id": "86460df7",
   "metadata": {},
   "source": [
    "# 🖼️ Pillow (PIL Fork) in Google Colab — Hands‑on Tutorial\n",
    "Learn core Pillow operations and generate images from ready‑to‑edit templates. This notebook covers opening/saving, drawing, text, compositing, transforms, filters, GIFs, EXIF, and batch workflows — plus editable templates (poster, social card, watermark, meme, collage).\n",
    "\n",
    "**How to use**\n",
    "1) Run the setup cell. 2) Explore the \"Basics\". 3) Try the Templates at the end and tweak parameters.\n"
   ]
  },
  {
   "cell_type": "markdown",
   "id": "ad437745",
   "metadata": {},
   "source": [
    "## 0) Setup"
   ]
  },
  {
   "cell_type": "code",
   "execution_count": null,
   "id": "941d6851",
   "metadata": {},
   "outputs": [],
   "source": [
    "#@title Install & Imports { display-mode: \"form\" }\n",
    "!pip -q install pillow ipywidgets rich\n",
    "\n",
    "from PIL import Image, ImageOps, ImageEnhance, ImageFilter, ImageDraw, ImageFont, ImageChops, ImageSequence, ImageColor\n",
    "import numpy as np, io, os, textwrap, math, json, random, pathlib\n",
    "from IPython.display import display, HTML\n",
    "from rich import print\n",
    "\n",
    "# Try to locate a TrueType font. DejaVu is usually present on Colab.\n",
    "DEFAULT_FONT = \"/usr/share/fonts/truetype/dejavu/DejaVuSans.ttf\"\n",
    "FONT_FALLBACK = ImageFont.load_default()\n",
    "\n",
    "def get_font(size=40):\n",
    "    try:\n",
    "        return ImageFont.truetype(DEFAULT_FONT, size=size)\n",
    "    except Exception:\n",
    "        return FONT_FALLBACK\n",
    "\n",
    "print(\"[green]Pillow version:[/green]\", Image.__version__)\n",
    "print(\"[green]Default font present?[/green]\", os.path.exists(DEFAULT_FONT))"
   ]
  },
  {
   "cell_type": "markdown",
   "id": "19a0a97c",
   "metadata": {},
   "source": [
    "## 1) Working with files"
   ]
  },
  {
   "cell_type": "code",
   "execution_count": null,
   "id": "632b1168",
   "metadata": {},
   "outputs": [],
   "source": [
    "# Option A: Upload files via the UI sidebar or programmatically:\n",
    "from google.colab import files  # type: ignore\n",
    "# files.upload()  # Uncomment to open the upload dialog\n",
    "\n",
    "# Option B: Mount Google Drive to persist outputs\n",
    "# from google.colab import drive  # type: ignore\n",
    "# drive.mount('/content/drive')\n",
    "# OUTPUT_DIR = \"/content/drive/MyDrive/PillowOutputs\"\n",
    "OUTPUT_DIR = \"/content/PillowOutputs\"\n",
    "os.makedirs(OUTPUT_DIR, exist_ok=True)\n",
    "print(\"Saving outputs to:\", OUTPUT_DIR)"
   ]
  },
  {
   "cell_type": "markdown",
   "id": "dd46773d",
   "metadata": {},
   "source": [
    "## 2) Create a sample image"
   ]
  },
  {
   "cell_type": "code",
   "execution_count": null,
   "id": "3b76488b",
   "metadata": {},
   "outputs": [],
   "source": [
    "# Let's create a gradient sample image to experiment with\n",
    "W,H = 800, 500\n",
    "grad = Image.new('RGB', (W,H), 'black')\n",
    "px = grad.load()\n",
    "for y in range(H):\n",
    "    for x in range(W):\n",
    "        r = int(255 * x / (W-1))\n",
    "        g = int(255 * y / (H-1))\n",
    "        b = int(255 * (1 - x/(W-1)))\n",
    "        px[x,y] = (r,g,b)\n",
    "grad.save(f\"{OUTPUT_DIR}/sample_gradient.jpg\", quality=95)\n",
    "display(grad)"
   ]
  },
  {
   "cell_type": "markdown",
   "id": "8bc1ca8c",
   "metadata": {},
   "source": [
    "## 3) Open / Save / Convert"
   ]
  },
  {
   "cell_type": "code",
   "execution_count": null,
   "id": "0741b670",
   "metadata": {},
   "outputs": [],
   "source": [
    "img = Image.open(f\"{OUTPUT_DIR}/sample_gradient.jpg\")\n",
    "print(img.mode, img.size, img.format)\n",
    "\n",
    "# Convert color modes\n",
    "rgba = img.convert('RGBA')\n",
    "luma = img.convert('L')  # grayscale\n",
    "\n",
    "# Save to different formats\n",
    "rgba.save(f\"{OUTPUT_DIR}/sample_rgba.png\")\n",
    "luma.save(f\"{OUTPUT_DIR}/sample_gray.png\")\n",
    "print(\"Saved:\", os.listdir(OUTPUT_DIR))"
   ]
  },
  {
   "cell_type": "markdown",
   "id": "89072abd",
   "metadata": {},
   "source": [
    "## 4) Resize / Crop / Pad / Thumbnail"
   ]
  },
  {
   "cell_type": "code",
   "execution_count": null,
   "id": "9584aefc",
   "metadata": {},
   "outputs": [],
   "source": [
    "img = Image.open(f\"{OUTPUT_DIR}/sample_gradient.jpg\")\n",
    "\n",
    "# Resize (keep aspect with thumbnail)\n",
    "thumb = img.copy()\n",
    "thumb.thumbnail((320, 320))\n",
    "thumb.save(f\"{OUTPUT_DIR}/thumb_320.jpg\", quality=92)\n",
    "\n",
    "# Exact resize ignoring aspect\n",
    "resized = img.resize((400, 300), Image.BICUBIC)\n",
    "\n",
    "# Center crop\n",
    "crop_box = (100, 60, 700, 460)\n",
    "cropped = img.crop(crop_box)\n",
    "\n",
    "# Pad to a square\n",
    "padded = ImageOps.pad(img, (600,600), color='#111')\n",
    "\n",
    "display(thumb, resized, cropped, padded)"
   ]
  },
  {
   "cell_type": "markdown",
   "id": "88a1ad53",
   "metadata": {},
   "source": [
    "## 5) Rotate / Flip / Affine / Perspective"
   ]
  },
  {
   "cell_type": "code",
   "execution_count": null,
   "id": "3f889594",
   "metadata": {},
   "outputs": [],
   "source": [
    "img = Image.open(f\"{OUTPUT_DIR}/sample_gradient.jpg\")\n",
    "\n",
    "rot = img.rotate(20, expand=True)\n",
    "flip_h = ImageOps.mirror(img)\n",
    "flip_v = ImageOps.flip(img)\n",
    "\n",
    "# Affine transform: scale + shear + translate\n",
    "aff = img.transform(\n",
    "    (img.width, img.height),\n",
    "    Image.AFFINE,\n",
    "    data=(1.0, 0.2, 0, 0.1, 1.0, 0),\n",
    "    resample=Image.BICUBIC,\n",
    ")\n",
    "\n",
    "display(rot, flip_h, flip_v, aff)"
   ]
  },
  {
   "cell_type": "markdown",
   "id": "5e0e329b",
   "metadata": {},
   "source": [
    "## 6) Filters / Enhance"
   ]
  },
  {
   "cell_type": "code",
   "execution_count": null,
   "id": "e78d27ec",
   "metadata": {},
   "outputs": [],
   "source": [
    "img = Image.open(f\"{OUTPUT_DIR}/sample_gradient.jpg\")\n",
    "\n",
    "blur = img.filter(ImageFilter.GaussianBlur(3))\n",
    "edges = img.filter(ImageFilter.FIND_EDGES)\n",
    "sharper = ImageEnhance.Sharpness(img).enhance(2.0)\n",
    "contrast = ImageEnhance.Contrast(img).enhance(1.4)\n",
    "colorboost = ImageEnhance.Color(img).enhance(1.6)\n",
    "\n",
    "display(blur, edges, sharper, contrast, colorboost)"
   ]
  },
  {
   "cell_type": "markdown",
   "id": "412ba12e",
   "metadata": {},
   "source": [
    "## 7) Draw primitives & text"
   ]
  },
  {
   "cell_type": "code",
   "execution_count": null,
   "id": "f55f3c85",
   "metadata": {},
   "outputs": [],
   "source": [
    "W,H = 900, 500\n",
    "canvas = Image.new('RGBA', (W,H), (20,20,24,255))\n",
    "draw = ImageDraw.Draw(canvas)\n",
    "\n",
    "# Shapes\n",
    "draw.rectangle((30,30,300,200), outline='#6EE7F9', width=4)\n",
    "draw.ellipse((350,40,520,210), outline='#FDE68A', width=6)\n",
    "draw.line((40,260,860,260), fill='#FCA5A5', width=6)\n",
    "for i in range(10):\n",
    "    draw.polygon([(600+i*3, 100+i*4), (700+i*2, 180+i*3), (650, 220+i*4)], outline='#C4B5FD')\n",
    "\n",
    "# Text\n",
    "font_title = get_font(48)\n",
    "font_body = get_font(28)\n",
    "draw.text((40, 280), 'Hello, Pillow!', fill='white', font=font_title)\n",
    "draw.text((40, 340), 'Draw shapes, lines, and styled text.', fill='#A7F3D0', font=font_body)\n",
    "\n",
    "canvas.save(f\"{OUTPUT_DIR}/draw_demo.png\")\n",
    "display(canvas)"
   ]
  },
  {
   "cell_type": "markdown",
   "id": "79c58edd",
   "metadata": {},
   "source": [
    "## 8) Alpha compositing & masks"
   ]
  },
  {
   "cell_type": "code",
   "execution_count": null,
   "id": "16796f86",
   "metadata": {},
   "outputs": [],
   "source": [
    "bg = Image.open(f\"{OUTPUT_DIR}/sample_gradient.jpg\").convert('RGBA')\n",
    "\n",
    "# Make a circular mask\n",
    "mask = Image.new('L', bg.size, 0)\n",
    "draw = ImageDraw.Draw(mask)\n",
    "draw.ellipse((150, 60, 650, 460), fill=255)\n",
    "\n",
    "# A foreground color layer\n",
    "fg = Image.new('RGBA', bg.size, (255, 255, 255, 0))\n",
    "draw = ImageDraw.Draw(fg)\n",
    "draw.rectangle((120, 30, 680, 480), outline=(255,255,255,255), width=10)\n",
    "\n",
    "# Composite: keep circle of bg + white frame\n",
    "cut = Image.composite(bg, Image.new('RGBA', bg.size, (0,0,0,0)), mask)\n",
    "combo = Image.alpha_composite(cut, fg)\n",
    "\n",
    "combo.save(f\"{OUTPUT_DIR}/composite.png\")\n",
    "display(combo)"
   ]
  },
  {
   "cell_type": "markdown",
   "id": "4ed7c2b3",
   "metadata": {},
   "source": [
    "## 9) Channel operations, blends, and color"
   ]
  },
  {
   "cell_type": "code",
   "execution_count": null,
   "id": "117794ba",
   "metadata": {},
   "outputs": [],
   "source": [
    "img = Image.open(f\"{OUTPUT_DIR}/sample_gradient.jpg\").convert('RGBA')\n",
    "r,g,b,a = img.split()\n",
    "\n",
    "# Merge channels with a different order to visualize\n",
    "rgb_swap = Image.merge('RGBA', (b,g,r,a))\n",
    "\n",
    "# Blend two images\n",
    "img2 = ImageOps.colorize(img.convert('L'), black='#000022', white='#88FFEE').convert('RGBA')\n",
    "blended = Image.blend(img, img2, alpha=0.4)\n",
    "\n",
    "# Color utilities\n",
    "solid = Image.new('RGBA', img.size, ImageColor.getrgb('salmon') + (180,))\n",
    "overlayed = Image.alpha_composite(img, solid)\n",
    "\n",
    "display(rgb_swap, blended, overlayed)"
   ]
  },
  {
   "cell_type": "markdown",
   "id": "c6f29c0d",
   "metadata": {},
   "source": [
    "## 10) EXIF basics (if present)"
   ]
  },
  {
   "cell_type": "code",
   "execution_count": null,
   "id": "a765daa2",
   "metadata": {},
   "outputs": [],
   "source": [
    "# EXIF is usually present on photos from cameras/phones; our synthetic image has none.\n",
    "# Example usage shown for reference:\n",
    "try:\n",
    "    sample = Image.open(f\"{OUTPUT_DIR}/sample_gradient.jpg\")\n",
    "    exif = sample.getexif()\n",
    "    print('EXIF tags:', len(exif))\n",
    "    for tag_id, value in list(exif.items())[:10]:\n",
    "        print(tag_id, value)\n",
    "except Exception as e:\n",
    "    print('EXIF read error:', e)"
   ]
  },
  {
   "cell_type": "markdown",
   "id": "0fd55dc6",
   "metadata": {},
   "source": [
    "## 11) Animated GIFs"
   ]
  },
  {
   "cell_type": "code",
   "execution_count": null,
   "id": "eba59316",
   "metadata": {},
   "outputs": [],
   "source": [
    "# Build a simple animated GIF from generated frames\n",
    "frames = []\n",
    "for i in range(12):\n",
    "    frame = Image.new('RGBA', (360, 200), (30,30,35,255))\n",
    "    draw = ImageDraw.Draw(frame)\n",
    "    draw.rectangle((20+i*5,40,160+i*5,160), outline='#A7F3D0', width=6)\n",
    "    draw.text((10,10), f'Frame {i+1}', fill='white', font=get_font(24))\n",
    "    frames.append(frame.convert('P', palette=Image.ADAPTIVE))\n",
    "\n",
    "gif_path = f\"{OUTPUT_DIR}/demo_anim.gif\"\n",
    "frames[0].save(gif_path, save_all=True, append_images=frames[1:], duration=120, loop=0, optimize=True)\n",
    "display(Image.open(gif_path))"
   ]
  },
  {
   "cell_type": "markdown",
   "id": "0240d40f",
   "metadata": {},
   "source": [
    "## 12) Batch processing example"
   ]
  },
  {
   "cell_type": "code",
   "execution_count": null,
   "id": "74dc0fe2",
   "metadata": {},
   "outputs": [],
   "source": [
    "# Make a few color variants in batch and save to OUTPUT_DIR\n",
    "img = Image.open(f\"{OUTPUT_DIR}/sample_gradient.jpg\")\n",
    "variants = []\n",
    "for i, sat in enumerate([0.6, 0.9, 1.2, 1.5]):\n",
    "    out = ImageEnhance.Color(img).enhance(sat)\n",
    "    out_path = f\"{OUTPUT_DIR}/variant_sat_{sat}.jpg\"\n",
    "    out.save(out_path, quality=92)\n",
    "    variants.append(out)\n",
    "\n",
    "# Show a quick grid preview\n",
    "rows = 1\n",
    "grid = Image.new('RGB', (img.width*len(variants), img.height))\n",
    "for i, im in enumerate(variants):\n",
    "    grid.paste(im, (i*img.width, 0))\n",
    "display(grid)"
   ]
  },
  {
   "cell_type": "markdown",
   "id": "bf0db89f",
   "metadata": {},
   "source": [
    "---\n",
    "# 📐 Templates you can edit\n",
    "Below are ready‑to‑use generators. Change the parameters and run to create your own images.\n"
   ]
  },
  {
   "cell_type": "markdown",
   "id": "74bf3057",
   "metadata": {},
   "source": [
    "## Template A: Poster / Flyer"
   ]
  },
  {
   "cell_type": "code",
   "execution_count": null,
   "id": "8d12a566",
   "metadata": {},
   "outputs": [],
   "source": [
    "def make_poster(title='Pillow Workshop', subtitle='Learn image magic in Python', w=1080, h=1350,\n",
    "                bg_color='#0f172a', accent='#22d3ee', text_color='#ffffff', out_name='poster.png'):\n",
    "    img = Image.new('RGB', (w,h), bg_color)\n",
    "    draw = ImageDraw.Draw(img)\n",
    "    # decorative bars\n",
    "    draw.rectangle((0,0,w,40), fill=accent)\n",
    "    draw.rectangle((0,h-40,w,h), fill=accent)\n",
    "    # title\n",
    "    title_font = get_font(int(w*0.1))\n",
    "    subtitle_font = get_font(int(w*0.045))\n",
    "    tw, th = draw.textbbox((0,0), title, font=title_font)[2:]\n",
    "    draw.text(((w-tw)//2, int(h*0.28)), title, fill=text_color, font=title_font)\n",
    "    # subtitle wrapped\n",
    "    wrap = textwrap.fill(subtitle, width=28)\n",
    "    draw.multiline_text((int(w*0.08), int(h*0.48)), wrap, fill='#cbd5e1', font=subtitle_font, spacing=8)\n",
    "    # footer tag\n",
    "    foot = 'powered by Pillow'\n",
    "    foot_font = get_font(int(w*0.035))\n",
    "    fw, fh = draw.textbbox((0,0), foot, font=foot_font)[2:]\n",
    "    draw.text((w-fw-40, h-fh-28), foot, fill='#94a3b8', font=foot_font)\n",
    "    out_path = f\"{OUTPUT_DIR}/{out_name}\"\n",
    "    img.save(out_path, quality=95)\n",
    "    display(img)\n",
    "    print('Saved:', out_path)\n",
    "\n",
    "make_poster()"
   ]
  },
  {
   "cell_type": "markdown",
   "id": "2eff042b",
   "metadata": {},
   "source": [
    "## Template B: Social Card (landscape)"
   ]
  },
  {
   "cell_type": "code",
   "execution_count": null,
   "id": "788f9357",
   "metadata": {},
   "outputs": [],
   "source": [
    "def make_social_card(top_text='New Tutorial', main_text='FFmpeg + Pillow in Colab', \n",
    "                      w=1600, h=900, bg='#111827', accent='#38bdf8', out_name='social_card.png'):\n",
    "    img = Image.new('RGB', (w,h), bg)\n",
    "    d = ImageDraw.Draw(img)\n",
    "    # gradient stripe\n",
    "    stripe = Image.linear_gradient('L').resize((w, int(h*0.45)))\n",
    "    stripe = ImageOps.colorize(stripe, black='#0ea5e9', white='#22d3ee')\n",
    "    img.paste(stripe, (0, int(h*0.3)))\n",
    "    # texts\n",
    "    top_font = get_font(int(h*0.08))\n",
    "    main_font = get_font(int(h*0.14))\n",
    "    d.text((50, 40), top_text, fill='#a5b4fc', font=top_font)\n",
    "    d.text((50, int(h*0.48)), main_text, fill='#e2e8f0', font=main_font)\n",
    "    # corner badge\n",
    "    badge = 'COLAB READY'\n",
    "    bfont = get_font(int(h*0.05))\n",
    "    bw, bh = d.textbbox((0,0), badge, font=bfont)[2:]\n",
    "    pad = 18\n",
    "    d.rectangle((w-bw-2*pad-40, 40, w-40, 40+bh+2*pad), fill=accent)\n",
    "    d.text((w-bw-pad-40, 40+pad), badge, fill='#0b1220', font=bfont)\n",
    "    out_path = f\"{OUTPUT_DIR}/{out_name}\"\n",
    "    img.save(out_path, quality=95)\n",
    "    display(img); print('Saved:', out_path)\n",
    "\n",
    "make_social_card()"
   ]
  },
  {
   "cell_type": "markdown",
   "id": "3a11c6b1",
   "metadata": {},
   "source": [
    "## Template C: Watermark (position & opacity)"
   ]
  },
  {
   "cell_type": "code",
   "execution_count": null,
   "id": "c352d0a5",
   "metadata": {},
   "outputs": [],
   "source": [
    "def watermark_image(src_path=f\"{OUTPUT_DIR}/sample_gradient.jpg\", text='© Your Name',\n",
    "                    pos='bottom_right', opacity=0.35, out_name='watermarked.png'):\n",
    "    base = Image.open(src_path).convert('RGBA')\n",
    "    W,H = base.size\n",
    "    txt = Image.new('RGBA', base.size, (255,255,255,0))\n",
    "    d = ImageDraw.Draw(txt)\n",
    "    font = get_font(int(min(W,H)*0.05))\n",
    "    tw, th = d.textbbox((0,0), text, font=font)[2:]\n",
    "    margin = int(min(W,H)*0.04)\n",
    "    positions = {\n",
    "        'bottom_right': (W-tw-margin, H-th-margin),\n",
    "        'bottom_left': (margin, H-th-margin),\n",
    "        'top_right': (W-tw-margin, margin),\n",
    "        'top_left': (margin, margin),\n",
    "        'center': ((W-tw)//2, (H-th)//2)\n",
    "    }\n",
    "    xy = positions.get(pos, positions['bottom_right'])\n",
    "    d.text(xy, text, font=font, fill=(255,255,255,int(255*opacity)))\n",
    "    out = Image.alpha_composite(base, txt)\n",
    "    out_path = f\"{OUTPUT_DIR}/{out_name}\"\n",
    "    out.convert('RGB').save(out_path, quality=95)\n",
    "    display(out); print('Saved:', out_path)\n",
    "\n",
    "watermark_image()"
   ]
  },
  {
   "cell_type": "markdown",
   "id": "4c3fc721",
   "metadata": {},
   "source": [
    "## Template D: Meme Generator (top/bottom text)"
   ]
  },
  {
   "cell_type": "code",
   "execution_count": null,
   "id": "9625188f",
   "metadata": {},
   "outputs": [],
   "source": [
    "def meme(text_top='WHEN PILLOW', text_bottom='JUST WORKS',\n",
    "         w=1000, h=800, bg='#222', out_name='meme.png'):\n",
    "    img = Image.new('RGB', (w,h), bg)\n",
    "    d = ImageDraw.Draw(img)\n",
    "    # use white border text\n",
    "    font = get_font(int(h*0.11))\n",
    "    def outline_text(x,y, txt):\n",
    "        for dx,dy in [(-3,0),(3,0),(0,-3),(0,3),(-2,-2),(2,2),(-2,2),(2,-2)]:\n",
    "            d.text((x+dx,y+dy), txt, font=font, fill='black')\n",
    "        d.text((x,y), txt, font=font, fill='white')\n",
    "\n",
    "    # Top centered\n",
    "    tw, th = d.textbbox((0,0), text_top, font=font)[2:]\n",
    "    outline_text((w-tw)//2, 20, text_top)\n",
    "    # Bottom centered\n",
    "    bw, bh = d.textbbox((0,0), text_bottom, font=font)[2:]\n",
    "    outline_text((w-bw)//2, h-bh-20, text_bottom)\n",
    "    out_path = f\"{OUTPUT_DIR}/{out_name}\"\n",
    "    img.save(out_path, quality=95)\n",
    "    display(img); print('Saved:', out_path)\n",
    "\n",
    "meme()"
   ]
  },
  {
   "cell_type": "markdown",
   "id": "84d855bf",
   "metadata": {},
   "source": [
    "## Template E: Collage (grid)"
   ]
  },
  {
   "cell_type": "code",
   "execution_count": null,
   "id": "9731155c",
   "metadata": {},
   "outputs": [],
   "source": [
    "def collage(images=None, cols=3, tile_size=(360,360), gap=8, bg='#0b1220', out_name='collage.png'):\n",
    "    if images is None:\n",
    "        # generate sample tiles\n",
    "        images = []\n",
    "        for i in range(7):\n",
    "            im = Image.new('RGB', tile_size, (20+20*i, 50+10*i, 90+10*i))\n",
    "            d = ImageDraw.Draw(im)\n",
    "            d.text((10,10), f'Tile {i+1}', fill='white', font=get_font(28))\n",
    "            images.append(im)\n",
    "    rows = math.ceil(len(images)/cols)\n",
    "    W = cols*tile_size[0] + (cols+1)*gap\n",
    "    H = rows*tile_size[1] + (rows+1)*gap\n",
    "    canvas = Image.new('RGB', (W,H), bg)\n",
    "    for idx, im in enumerate(images):\n",
    "        r, c = divmod(idx, cols)\n",
    "        thumb = ImageOps.fit(im, tile_size, Image.LANCZOS)\n",
    "        x = gap + c*(tile_size[0]+gap)\n",
    "        y = gap + r*(tile_size[1]+gap)\n",
    "        canvas.paste(thumb, (x,y))\n",
    "    out_path = f\"{OUTPUT_DIR}/{out_name}\"\n",
    "    canvas.save(out_path, quality=95)\n",
    "    display(canvas); print('Saved:', out_path)\n",
    "\n",
    "collage()"
   ]
  },
  {
   "cell_type": "markdown",
   "id": "dc704552",
   "metadata": {},
   "source": [
    "---\n",
    "## Tips & Troubleshooting\n",
    "- If fonts look odd, try another `.ttf` by uploading it and pointing `ImageFont.truetype` to your file.\n",
    "- Use `OUTPUT_DIR` to control where files go. Mount Drive to persist results.\n",
    "- Animated GIFs: keep frame count & size modest for speed.\n",
    "- For transparency, prefer PNG; for photos, prefer JPEG; for vector‑like shapes/flat colors, PNG or WebP lossless.\n"
   ]
  }
 ],
 "metadata": {},
 "nbformat": 4,
 "nbformat_minor": 5
}
