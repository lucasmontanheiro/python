{
 "cells": [
  {
   "cell_type": "markdown",
   "id": "8eb02719",
   "metadata": {},
   "source": [
    "\n",
    "# PNG + (MP3 or M4A) ➜ Simple MP4 (YouTube)\n",
    "\n",
    "**Minimal flow**  \n",
    "1) Upload **one PNG** and **one audio file** (`.mp3` or `.m4a`)  \n",
    "2) Convert to **720p, 30fps** MP4 with black padding  \n",
    "3) Download the result\n",
    "\n",
    "Encodes: **H.264 (yuv420p) + AAC** — YouTube friendly.\n"
   ]
  },
  {
   "cell_type": "code",
   "execution_count": null,
   "id": "d4d9e5a1",
   "metadata": {},
   "outputs": [],
   "source": [
    "\n",
    "# Install ffmpeg\n",
    "!apt-get -y update -qq\n",
    "!apt-get -y install ffmpeg -qq\n"
   ]
  },
  {
   "cell_type": "code",
   "execution_count": null,
   "id": "fe4f74eb",
   "metadata": {},
   "outputs": [],
   "source": [
    "\n",
    "# Upload files (pick exactly 2: one PNG image + one MP3 or M4A audio)\n",
    "from google.colab import files\n",
    "uploaded = files.upload()\n",
    "print(\"Uploaded:\", list(uploaded.keys()))\n"
   ]
  },
  {
   "cell_type": "code",
   "execution_count": null,
   "id": "d2bf7c30",
   "metadata": {},
   "outputs": [],
   "source": [
    "\n",
    "# Auto-detect image/audio by file extension\n",
    "import os, sys\n",
    "\n",
    "allowed_audio = {'.mp3', '.m4a'}\n",
    "allowed_image = {'.png'}\n",
    "\n",
    "image_path = None\n",
    "audio_path = None\n",
    "\n",
    "# 'uploaded' dict is available from the previous cell\n",
    "for name in uploaded.keys():\n",
    "    ext = os.path.splitext(name)[1].lower()\n",
    "    if ext in allowed_image and image_path is None:\n",
    "        image_path = name\n",
    "    elif ext in allowed_audio and audio_path is None:\n",
    "        audio_path = name\n",
    "\n",
    "if not image_path or not audio_path:\n",
    "    print(\"\\n❌ Could not detect both files.\")\n",
    "    print(\"Please upload exactly one PNG image and one audio file (.mp3 or .m4a).\")\n",
    "    print(\"Detected — image:\", image_path, \" audio:\", audio_path)\n",
    "    raise SystemExit\n",
    "\n",
    "print(\"Detected image:\", image_path)\n",
    "print(\"Detected audio:\", audio_path)\n",
    "\n",
    "output_path = \"png_audio_to_video_720p.mp4\"\n"
   ]
  },
  {
   "cell_type": "code",
   "execution_count": null,
   "id": "49e3aed6",
   "metadata": {},
   "outputs": [],
   "source": [
    "\n",
    "# Convert: 1280x720, 30fps, black padding; stop when audio ends\n",
    "!ffmpeg -y -loop 1 -i \"$image_path\" -i \"$audio_path\"   -c:v libx264 -tune stillimage -r 30   -vf \"scale=1280:720:force_original_aspect_ratio=decrease,       pad=1280:720:(ow-iw)/2:(oh-ih)/2:color=black,format=yuv420p\"   -c:a aac -b:a 128k -shortest \"$output_path\"\n"
   ]
  },
  {
   "cell_type": "code",
   "execution_count": null,
   "id": "df2d21b2",
   "metadata": {},
   "outputs": [],
   "source": [
    "\n",
    "# Download the result\n",
    "from google.colab import files\n",
    "files.download(output_path)\n"
   ]
  }
 ],
 "metadata": {},
 "nbformat": 4,
 "nbformat_minor": 5
}
