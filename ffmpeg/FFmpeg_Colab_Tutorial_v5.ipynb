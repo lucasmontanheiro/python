{
 "cells": [
  {
   "cell_type": "markdown",
   "id": "560e46c9",
   "metadata": {},
   "source": [
    "# FFmpeg + Python in Google Colab (v5)\n",
    "**Polished build** — safe accelerator detection, robust concat section, and no `%%bash` magics."
   ]
  },
  {
   "cell_type": "markdown",
   "id": "fddea373",
   "metadata": {},
   "source": [
    "## 1) Install FFmpeg + helpers"
   ]
  },
  {
   "cell_type": "code",
   "execution_count": null,
   "id": "d21ca9ba",
   "metadata": {},
   "outputs": [],
   "source": [
    "#@title Install FFmpeg + Python packages { display-mode: \"form\" }\n",
    "!apt-get -y update -qq\n",
    "!apt-get -y install -qq ffmpeg\n",
    "!pip -q install ffmpeg-python imageio imageio-ffmpeg opencv-python rich"
   ]
  },
  {
   "cell_type": "markdown",
   "id": "9f13de2f",
   "metadata": {},
   "source": [
    "## 2) Check your runtime (safe GPU/TPU/CPU detection)"
   ]
  },
  {
   "cell_type": "code",
   "execution_count": null,
   "id": "eda1768c",
   "metadata": {},
   "outputs": [],
   "source": [
    "# Detect accelerator safely (GPU/TPU/CPU)\n",
    "import shutil, subprocess, os\n",
    "\n",
    "def print_block(s): \n",
    "    print(\"\\n\" + \"=\"*30 + \"\\n\" + s + \"\\n\" + \"=\"*30)\n",
    "\n",
    "# GPU (NVIDIA) — only run nvidia-smi if present\n",
    "if shutil.which(\"nvidia-smi\"):\n",
    "    out = subprocess.run([\"nvidia-smi\"], stdout=subprocess.PIPE, stderr=subprocess.STDOUT, text=True)\n",
    "    print_block(\"NVIDIA GPU detected\")\n",
    "    print(out.stdout)\n",
    "else:\n",
    "    print_block(\"No NVIDIA GPU visible (CPU or TPU). That's fine for software encoding.\")\n",
    "\n",
    "# TPU (Colab has an env var when TPU is present)\n",
    "if \"COLAB_TPU_ADDR\" in os.environ:\n",
    "    print_block(f\"TPU detected at {os.environ['COLAB_TPU_ADDR']}\")"
   ]
  },
  {
   "cell_type": "markdown",
   "id": "b139c62d",
   "metadata": {},
   "source": [
    "## 3) (Optional) Mount Google Drive"
   ]
  },
  {
   "cell_type": "code",
   "execution_count": null,
   "id": "ff275ed1",
   "metadata": {},
   "outputs": [],
   "source": [
    "from google.colab import drive  # type: ignore\n",
    "drive.mount('/content/drive')"
   ]
  },
  {
   "cell_type": "markdown",
   "id": "1033236c",
   "metadata": {},
   "source": [
    "## 4) Create a sample clip to experiment with"
   ]
  },
  {
   "cell_type": "code",
   "execution_count": null,
   "id": "894eacb9",
   "metadata": {},
   "outputs": [],
   "source": [
    "# 5s 720p test pattern + tone\n",
    "!ffmpeg -hide_banner -y   -f lavfi -i testsrc=size=1280x720:rate=30   -f lavfi -i sine=frequency=440:sample_rate=48000:duration=5   -shortest -c:v libx264 -pix_fmt yuv420p -preset veryfast -crf 23   -c:a aac -b:a 128k sample.mp4\n",
    "!ls -lh sample.mp4"
   ]
  },
  {
   "cell_type": "markdown",
   "id": "fab3f349",
   "metadata": {},
   "source": [
    "## 5) Inspect with ffprobe"
   ]
  },
  {
   "cell_type": "code",
   "execution_count": null,
   "id": "f96a2f8e",
   "metadata": {},
   "outputs": [],
   "source": [
    "!ffprobe -v error -print_format json -show_format -show_streams sample.mp4 | python -m json.tool"
   ]
  },
  {
   "cell_type": "markdown",
   "id": "29b702ba",
   "metadata": {},
   "source": [
    "## 6) Common edits"
   ]
  },
  {
   "cell_type": "code",
   "execution_count": null,
   "id": "4b900344",
   "metadata": {},
   "outputs": [],
   "source": [
    "# Trim (copy) — keyframe aligned\n",
    "!ffmpeg -hide_banner -y -ss 1 -to 4 -i sample.mp4 -c copy sample_trim_copy.mp4\n",
    "!ffprobe -v error -show_entries format=duration -of default=nw=1:nk=1 sample_trim_copy.mp4\n",
    "\n",
    "# Exact trim (re-encode)\n",
    "!ffmpeg -hide_banner -y -ss 1 -to 4 -i sample.mp4 -c:v libx264 -preset veryfast -crf 20 -c:a aac -b:a 128k exact_trim.mp4\n",
    "!ffprobe -v error -show_entries format=duration -of default=nw=1:nk=1 exact_trim.mp4"
   ]
  },
  {
   "cell_type": "code",
   "execution_count": null,
   "id": "c5cb045f",
   "metadata": {},
   "outputs": [],
   "source": [
    "# Resize + fps\n",
    "!ffmpeg -hide_banner -y -i sample.mp4 -vf \"scale=854:-2,fps=24\" -c:v libx264 -preset veryfast -crf 23 -c:a aac -b:a 128k sample_854x480_24fps.mp4"
   ]
  },
  {
   "cell_type": "markdown",
   "id": "de4c476d",
   "metadata": {},
   "source": [
    "### Concatenate clips (robust method)"
   ]
  },
  {
   "cell_type": "code",
   "execution_count": null,
   "id": "1d2df64a",
   "metadata": {},
   "outputs": [],
   "source": [
    "# Create two short segments\n",
    "!ffmpeg -hide_banner -y -i sample.mp4 -t 2 -c copy part1.mp4\n",
    "!ffmpeg -hide_banner -y -ss 2 -i sample.mp4 -t 2 -c copy part2.mp4\n",
    "\n",
    "# Write concat list file correctly from Python (quotes recommended)\n",
    "with open(\"concat.txt\", \"w\") as f:\n",
    "    f.write(\"file 'part1.mp4'\\n\")\n",
    "    f.write(\"file 'part2.mp4'\\n\")\n",
    "\n",
    "# Concat using demuxer\n",
    "!ffmpeg -hide_banner -y -f concat -safe 0 -i concat.txt -c copy sample_concat.mp4\n",
    "!ls -lh sample_concat.mp4"
   ]
  },
  {
   "cell_type": "markdown",
   "id": "d4db49a1",
   "metadata": {},
   "source": [
    "### Side-by-side (hstack) + overlay PiP"
   ]
  },
  {
   "cell_type": "code",
   "execution_count": null,
   "id": "f650cf79",
   "metadata": {},
   "outputs": [],
   "source": [
    "!ffmpeg -hide_banner -y -i sample.mp4 -i sample.mp4   -filter_complex \"[0:v]scale=640:-2[left];[1:v]scale=640:-2[right];[left][right]hstack=inputs=2[sbs];[sbs][1:v]overlay=W-w-20:H-h-20:enable='between(t,1,4)'\"   -map \"[sbs]\" -map 0:a -c:v libx264 -crf 22 -preset veryfast -c:a aac -b:a 128k sxs_overlay.mp4"
   ]
  },
  {
   "cell_type": "markdown",
   "id": "1284ae08",
   "metadata": {},
   "source": [
    "### Subtitles (burn-in)"
   ]
  },
  {
   "cell_type": "code",
   "execution_count": null,
   "id": "ed4f9f1a",
   "metadata": {},
   "outputs": [],
   "source": [
    "# Write an SRT file from Python, then burn in\n",
    "srt = '''1\n",
    "00:00:00,000 --> 00:00:02,000\n",
    "Hello from FFmpeg!\n",
    "\n",
    "2\n",
    "00:00:02,000 --> 00:00:05,000\n",
    "These are hardcoded subtitles.\n",
    "'''\n",
    "with open('demo.srt','w') as f:\n",
    "    f.write(srt)\n",
    "\n",
    "!ffmpeg -hide_banner -y -i sample.mp4 -vf subtitles=demo.srt -c:v libx264 -crf 22 -preset veryfast -c:a copy subbed.mp4"
   ]
  },
  {
   "cell_type": "markdown",
   "id": "9a39e71c",
   "metadata": {},
   "source": [
    "### GIF (palette method)"
   ]
  },
  {
   "cell_type": "code",
   "execution_count": null,
   "id": "524d0b90",
   "metadata": {},
   "outputs": [],
   "source": [
    "!ffmpeg -hide_banner -y -i sample.mp4 -vf \"fps=12,scale=480:-2,split[s0][s1];[s0]palettegen[p];[s1][p]paletteuse=dither=bayer\" sample.gif\n",
    "!ls -lh sample.gif"
   ]
  },
  {
   "cell_type": "markdown",
   "id": "1840b806",
   "metadata": {},
   "source": [
    "## 7) Bitrate & 2-pass"
   ]
  },
  {
   "cell_type": "code",
   "execution_count": null,
   "id": "06eaedf0",
   "metadata": {},
   "outputs": [],
   "source": [
    "# CRF encode\n",
    "!ffmpeg -hide_banner -y -i sample.mp4 -c:v libx264 -crf 20 -preset slow -c:a aac -b:a 128k crf20_slow.mp4\n",
    "\n",
    "# Two-pass (target 2.5 Mbps)\n",
    "!ffmpeg -hide_banner -y -i sample.mp4 -c:v libx264 -b:v 2500k -pass 1 -an -f mp4 /dev/null\n",
    "!ffmpeg -hide_banner -y -i sample.mp4 -c:v libx264 -b:v 2500k -pass 2 -c:a aac -b:a 128k two_pass_2_5Mbps.mp4\n",
    "!rm -f ffmpeg2pass-0.log ffmpeg2pass-0.log.mbtree"
   ]
  },
  {
   "cell_type": "markdown",
   "id": "37539429",
   "metadata": {},
   "source": [
    "## 8) Filters (scale, crop, pad, EQ)"
   ]
  },
  {
   "cell_type": "code",
   "execution_count": null,
   "id": "7b08b981",
   "metadata": {},
   "outputs": [],
   "source": [
    "!ffmpeg -hide_banner -y -i sample.mp4   -vf \"crop=in_w:in_h*0.8:0:in_h*0.1,scale=960:-2,pad=1280:720:(1280-iw)/2:(720-ih)/2:black,eq=contrast=1.1:brightness=0.03:saturation=1.05\"   -c:v libx264 -crf 21 -preset veryfast -c:a aac -b:a 128k styled.mp4"
   ]
  },
  {
   "cell_type": "markdown",
   "id": "04971efe",
   "metadata": {},
   "source": [
    "## 9) Audio tasks"
   ]
  },
  {
   "cell_type": "code",
   "execution_count": null,
   "id": "aee1695b",
   "metadata": {},
   "outputs": [],
   "source": [
    "# Loudness normalize\n",
    "!ffmpeg -hide_banner -y -i sample.mp4 -af loudnorm=I=-16:TP=-1.5:LRA=11 -c:v copy -c:a aac -b:a 192k loudnorm.mp4\n",
    "\n",
    "# Sidechain ducking (VO over music example)\n",
    "!ffmpeg -hide_banner -y -i sample.mp4 -f lavfi -i sine=frequency=220:sample_rate=48000:duration=5   -filter_complex \"[0:a][1:a]sidechaincompress=threshold=0.05:ratio=8:attack=20:release=250[ducked]\"   -map 0:v -map \"[ducked]\" -c:v copy -c:a aac -b:a 128k ducked_music.mp4"
   ]
  },
  {
   "cell_type": "markdown",
   "id": "c0c5b4d0",
   "metadata": {},
   "source": [
    "## 10) Pythonic pipelines (`ffmpeg-python`)"
   ]
  },
  {
   "cell_type": "code",
   "execution_count": null,
   "id": "a243346c",
   "metadata": {},
   "outputs": [],
   "source": [
    "import ffmpeg, subprocess, json\n",
    "probe = ffmpeg.probe('sample.mp4')\n",
    "video_streams = [s for s in probe['streams'] if s.get('codec_type')=='video']\n",
    "print('Video codec:', video_streams[0].get('codec_name'))\n",
    "(ffmpeg\n",
    "  .input('sample.mp4')\n",
    "  .filter('scale', 960, -2)\n",
    "  .output('py_transcoded.mp4', vcodec='libx264', crf=23, preset='veryfast', acodec='aac', **{'b:a':'128k'})\n",
    "  .overwrite_output()\n",
    "  .run()\n",
    ")\n",
    "subprocess.run(['ffprobe','-v','error','-show_entries','format=duration','-of','default=nw=1:nk=1','py_transcoded.mp4'])"
   ]
  },
  {
   "cell_type": "markdown",
   "id": "99eb3e28",
   "metadata": {},
   "source": [
    "## 11) OpenCV read/write frames"
   ]
  },
  {
   "cell_type": "code",
   "execution_count": null,
   "id": "9d1671bd",
   "metadata": {},
   "outputs": [],
   "source": [
    "import cv2\n",
    "cap = cv2.VideoCapture('sample.mp4')\n",
    "w,h = int(cap.get(cv2.CAP_PROP_FRAME_WIDTH)), int(cap.get(cv2.CAP_PROP_FRAME_HEIGHT))\n",
    "fps = cap.get(cv2.CAP_PROP_FPS)\n",
    "fourcc = cv2.VideoWriter_fourcc(*'mp4v')  # portable fallback\n",
    "out = cv2.VideoWriter('cv2_out.mp4', fourcc, fps, (w,h))\n",
    "while True:\n",
    "    ok, frame = cap.read()\n",
    "    if not ok: break\n",
    "    out.write(frame)\n",
    "cap.release(); out.release(); print('Wrote cv2_out.mp4')"
   ]
  },
  {
   "cell_type": "markdown",
   "id": "259e50c1",
   "metadata": {},
   "source": [
    "## 12) Cheatsheet: useful knobs"
   ]
  },
  {
   "cell_type": "markdown",
   "id": "74f68c30",
   "metadata": {},
   "source": [
    "- H.264 (libx264): `-crf 18–28`, `-preset ultrafast..placebo`, `-tune film|animation|grain`\n",
    "- VP9 (libvpx-vp9): `-b:v 0 -crf 30–40`, `-row-mt 1`, `-tile-columns 2`\n",
    "- AV1 (libaom-av1): `-crf 28–40`, `-cpu-used 4–8`\n",
    "- Audio: AAC `-c:a aac -b:a 128k`, Opus `-c:a libopus -b:a 96k`\n",
    "- Filters: `scale`, `fps`, `crop`, `pad`, `eq`, `overlay`, `hstack/vstack`\n",
    "- Mux: `-movflags +faststart`, explicit `-map` for streams"
   ]
  }
 ],
 "metadata": {},
 "nbformat": 4,
 "nbformat_minor": 5
}
