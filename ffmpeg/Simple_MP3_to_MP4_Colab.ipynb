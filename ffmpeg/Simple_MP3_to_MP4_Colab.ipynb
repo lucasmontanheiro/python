{
  "cells": [
    {
      "cell_type": "markdown",
      "id": "b53220ad",
      "metadata": {
        "id": "b53220ad"
      },
      "source": [
        "\n",
        "# MP3 + Image ➜ Simple MP4 (YouTube)\n",
        "\n",
        "This is the **simplest, lightest version**:  \n",
        "- Upload 1 MP3 and 1 JPG/PNG  \n",
        "- Converts to MP4 at **720p, 30fps, black padding**  \n",
        "- Encodes with **H.264 + AAC**  \n"
      ]
    },
    {
      "cell_type": "code",
      "execution_count": 6,
      "id": "c589c483",
      "metadata": {
        "colab": {
          "base_uri": "https://localhost:8080/"
        },
        "id": "c589c483",
        "outputId": "f6b3c316-6dd8-48c4-9497-9309cf432b8c"
      },
      "outputs": [
        {
          "output_type": "stream",
          "name": "stdout",
          "text": [
            "W: Skipping acquire of configured file 'main/source/Sources' as repository 'https://r2u.stat.illinois.edu/ubuntu jammy InRelease' does not seem to provide it (sources.list entry misspelt?)\n"
          ]
        }
      ],
      "source": [
        "\n",
        "# Install ffmpeg\n",
        "!apt-get -y update -qq\n",
        "!apt-get -y install ffmpeg -qq\n"
      ]
    },
    {
      "cell_type": "code",
      "execution_count": 7,
      "id": "af54194a",
      "metadata": {
        "colab": {
          "base_uri": "https://localhost:8080/",
          "height": 125
        },
        "id": "af54194a",
        "outputId": "1f0e24c6-1289-4955-a46e-b340fe75b1d7"
      },
      "outputs": [
        {
          "output_type": "display_data",
          "data": {
            "text/plain": [
              "<IPython.core.display.HTML object>"
            ],
            "text/html": [
              "\n",
              "     <input type=\"file\" id=\"files-0b8684ef-d546-498a-b04e-cbec5ab60e7c\" name=\"files[]\" multiple disabled\n",
              "        style=\"border:none\" />\n",
              "     <output id=\"result-0b8684ef-d546-498a-b04e-cbec5ab60e7c\">\n",
              "      Upload widget is only available when the cell has been executed in the\n",
              "      current browser session. Please rerun this cell to enable.\n",
              "      </output>\n",
              "      <script>// Copyright 2017 Google LLC\n",
              "//\n",
              "// Licensed under the Apache License, Version 2.0 (the \"License\");\n",
              "// you may not use this file except in compliance with the License.\n",
              "// You may obtain a copy of the License at\n",
              "//\n",
              "//      http://www.apache.org/licenses/LICENSE-2.0\n",
              "//\n",
              "// Unless required by applicable law or agreed to in writing, software\n",
              "// distributed under the License is distributed on an \"AS IS\" BASIS,\n",
              "// WITHOUT WARRANTIES OR CONDITIONS OF ANY KIND, either express or implied.\n",
              "// See the License for the specific language governing permissions and\n",
              "// limitations under the License.\n",
              "\n",
              "/**\n",
              " * @fileoverview Helpers for google.colab Python module.\n",
              " */\n",
              "(function(scope) {\n",
              "function span(text, styleAttributes = {}) {\n",
              "  const element = document.createElement('span');\n",
              "  element.textContent = text;\n",
              "  for (const key of Object.keys(styleAttributes)) {\n",
              "    element.style[key] = styleAttributes[key];\n",
              "  }\n",
              "  return element;\n",
              "}\n",
              "\n",
              "// Max number of bytes which will be uploaded at a time.\n",
              "const MAX_PAYLOAD_SIZE = 100 * 1024;\n",
              "\n",
              "function _uploadFiles(inputId, outputId) {\n",
              "  const steps = uploadFilesStep(inputId, outputId);\n",
              "  const outputElement = document.getElementById(outputId);\n",
              "  // Cache steps on the outputElement to make it available for the next call\n",
              "  // to uploadFilesContinue from Python.\n",
              "  outputElement.steps = steps;\n",
              "\n",
              "  return _uploadFilesContinue(outputId);\n",
              "}\n",
              "\n",
              "// This is roughly an async generator (not supported in the browser yet),\n",
              "// where there are multiple asynchronous steps and the Python side is going\n",
              "// to poll for completion of each step.\n",
              "// This uses a Promise to block the python side on completion of each step,\n",
              "// then passes the result of the previous step as the input to the next step.\n",
              "function _uploadFilesContinue(outputId) {\n",
              "  const outputElement = document.getElementById(outputId);\n",
              "  const steps = outputElement.steps;\n",
              "\n",
              "  const next = steps.next(outputElement.lastPromiseValue);\n",
              "  return Promise.resolve(next.value.promise).then((value) => {\n",
              "    // Cache the last promise value to make it available to the next\n",
              "    // step of the generator.\n",
              "    outputElement.lastPromiseValue = value;\n",
              "    return next.value.response;\n",
              "  });\n",
              "}\n",
              "\n",
              "/**\n",
              " * Generator function which is called between each async step of the upload\n",
              " * process.\n",
              " * @param {string} inputId Element ID of the input file picker element.\n",
              " * @param {string} outputId Element ID of the output display.\n",
              " * @return {!Iterable<!Object>} Iterable of next steps.\n",
              " */\n",
              "function* uploadFilesStep(inputId, outputId) {\n",
              "  const inputElement = document.getElementById(inputId);\n",
              "  inputElement.disabled = false;\n",
              "\n",
              "  const outputElement = document.getElementById(outputId);\n",
              "  outputElement.innerHTML = '';\n",
              "\n",
              "  const pickedPromise = new Promise((resolve) => {\n",
              "    inputElement.addEventListener('change', (e) => {\n",
              "      resolve(e.target.files);\n",
              "    });\n",
              "  });\n",
              "\n",
              "  const cancel = document.createElement('button');\n",
              "  inputElement.parentElement.appendChild(cancel);\n",
              "  cancel.textContent = 'Cancel upload';\n",
              "  const cancelPromise = new Promise((resolve) => {\n",
              "    cancel.onclick = () => {\n",
              "      resolve(null);\n",
              "    };\n",
              "  });\n",
              "\n",
              "  // Wait for the user to pick the files.\n",
              "  const files = yield {\n",
              "    promise: Promise.race([pickedPromise, cancelPromise]),\n",
              "    response: {\n",
              "      action: 'starting',\n",
              "    }\n",
              "  };\n",
              "\n",
              "  cancel.remove();\n",
              "\n",
              "  // Disable the input element since further picks are not allowed.\n",
              "  inputElement.disabled = true;\n",
              "\n",
              "  if (!files) {\n",
              "    return {\n",
              "      response: {\n",
              "        action: 'complete',\n",
              "      }\n",
              "    };\n",
              "  }\n",
              "\n",
              "  for (const file of files) {\n",
              "    const li = document.createElement('li');\n",
              "    li.append(span(file.name, {fontWeight: 'bold'}));\n",
              "    li.append(span(\n",
              "        `(${file.type || 'n/a'}) - ${file.size} bytes, ` +\n",
              "        `last modified: ${\n",
              "            file.lastModifiedDate ? file.lastModifiedDate.toLocaleDateString() :\n",
              "                                    'n/a'} - `));\n",
              "    const percent = span('0% done');\n",
              "    li.appendChild(percent);\n",
              "\n",
              "    outputElement.appendChild(li);\n",
              "\n",
              "    const fileDataPromise = new Promise((resolve) => {\n",
              "      const reader = new FileReader();\n",
              "      reader.onload = (e) => {\n",
              "        resolve(e.target.result);\n",
              "      };\n",
              "      reader.readAsArrayBuffer(file);\n",
              "    });\n",
              "    // Wait for the data to be ready.\n",
              "    let fileData = yield {\n",
              "      promise: fileDataPromise,\n",
              "      response: {\n",
              "        action: 'continue',\n",
              "      }\n",
              "    };\n",
              "\n",
              "    // Use a chunked sending to avoid message size limits. See b/62115660.\n",
              "    let position = 0;\n",
              "    do {\n",
              "      const length = Math.min(fileData.byteLength - position, MAX_PAYLOAD_SIZE);\n",
              "      const chunk = new Uint8Array(fileData, position, length);\n",
              "      position += length;\n",
              "\n",
              "      const base64 = btoa(String.fromCharCode.apply(null, chunk));\n",
              "      yield {\n",
              "        response: {\n",
              "          action: 'append',\n",
              "          file: file.name,\n",
              "          data: base64,\n",
              "        },\n",
              "      };\n",
              "\n",
              "      let percentDone = fileData.byteLength === 0 ?\n",
              "          100 :\n",
              "          Math.round((position / fileData.byteLength) * 100);\n",
              "      percent.textContent = `${percentDone}% done`;\n",
              "\n",
              "    } while (position < fileData.byteLength);\n",
              "  }\n",
              "\n",
              "  // All done.\n",
              "  yield {\n",
              "    response: {\n",
              "      action: 'complete',\n",
              "    }\n",
              "  };\n",
              "}\n",
              "\n",
              "scope.google = scope.google || {};\n",
              "scope.google.colab = scope.google.colab || {};\n",
              "scope.google.colab._files = {\n",
              "  _uploadFiles,\n",
              "  _uploadFilesContinue,\n",
              "};\n",
              "})(self);\n",
              "</script> "
            ]
          },
          "metadata": {}
        },
        {
          "output_type": "stream",
          "name": "stdout",
          "text": [
            "Saving ai.m4a to ai (1).m4a\n",
            "Saving ai.png to ai (1).png\n",
            "Uploaded: ['ai (1).m4a', 'ai (1).png']\n"
          ]
        }
      ],
      "source": [
        "\n",
        "# Upload files\n",
        "from google.colab import files\n",
        "uploaded = files.upload()\n",
        "print(\"Uploaded:\", list(uploaded.keys()))\n"
      ]
    },
    {
      "cell_type": "code",
      "execution_count": 8,
      "id": "db3b4bf0",
      "metadata": {
        "id": "db3b4bf0"
      },
      "outputs": [],
      "source": [
        "\n",
        "# Replace with your filenames shown above\n",
        "mp3_path = 'ai.m4a'   # e.g. 'song.mp3'\n",
        "img_path = 'ai.png'   # e.g. 'cover.jpg'\n",
        "output_path = 'ai.mp4'\n"
      ]
    },
    {
      "cell_type": "code",
      "execution_count": 9,
      "id": "f5006015",
      "metadata": {
        "colab": {
          "base_uri": "https://localhost:8080/"
        },
        "id": "f5006015",
        "outputId": "9ae7f95c-9939-49cc-f7ad-d4992406fcfb"
      },
      "outputs": [
        {
          "output_type": "stream",
          "name": "stdout",
          "text": [
            "ffmpeg version 4.4.2-0ubuntu0.22.04.1 Copyright (c) 2000-2021 the FFmpeg developers\n",
            "  built with gcc 11 (Ubuntu 11.2.0-19ubuntu1)\n",
            "  configuration: --prefix=/usr --extra-version=0ubuntu0.22.04.1 --toolchain=hardened --libdir=/usr/lib/x86_64-linux-gnu --incdir=/usr/include/x86_64-linux-gnu --arch=amd64 --enable-gpl --disable-stripping --enable-gnutls --enable-ladspa --enable-libaom --enable-libass --enable-libbluray --enable-libbs2b --enable-libcaca --enable-libcdio --enable-libcodec2 --enable-libdav1d --enable-libflite --enable-libfontconfig --enable-libfreetype --enable-libfribidi --enable-libgme --enable-libgsm --enable-libjack --enable-libmp3lame --enable-libmysofa --enable-libopenjpeg --enable-libopenmpt --enable-libopus --enable-libpulse --enable-librabbitmq --enable-librubberband --enable-libshine --enable-libsnappy --enable-libsoxr --enable-libspeex --enable-libsrt --enable-libssh --enable-libtheora --enable-libtwolame --enable-libvidstab --enable-libvorbis --enable-libvpx --enable-libwebp --enable-libx265 --enable-libxml2 --enable-libxvid --enable-libzimg --enable-libzmq --enable-libzvbi --enable-lv2 --enable-omx --enable-openal --enable-opencl --enable-opengl --enable-sdl2 --enable-pocketsphinx --enable-librsvg --enable-libmfx --enable-libdc1394 --enable-libdrm --enable-libiec61883 --enable-chromaprint --enable-frei0r --enable-libx264 --enable-shared\n",
            "  libavutil      56. 70.100 / 56. 70.100\n",
            "  libavcodec     58.134.100 / 58.134.100\n",
            "  libavformat    58. 76.100 / 58. 76.100\n",
            "  libavdevice    58. 13.100 / 58. 13.100\n",
            "  libavfilter     7.110.100 /  7.110.100\n",
            "  libswscale      5.  9.100 /  5.  9.100\n",
            "  libswresample   3.  9.100 /  3.  9.100\n",
            "  libpostproc    55.  9.100 / 55.  9.100\n",
            "\u001b[0;35m[png_pipe @ 0x5c12d8b172c0] \u001b[0m\u001b[0;33mStream #0: not enough frames to estimate rate; consider increasing probesize\n",
            "\u001b[0mInput #0, png_pipe, from 'ai.png':\n",
            "  Duration: N/A, bitrate: N/A\n",
            "  Stream #0:0: Video: png, rgb24(pc), 1536x1024, 25 fps, 25 tbr, 25 tbn, 25 tbc\n",
            "Input #1, mov,mp4,m4a,3gp,3g2,mj2, from 'ai.m4a':\n",
            "  Metadata:\n",
            "    major_brand     : dash\n",
            "    minor_version   : 0\n",
            "    compatible_brands: iso6mp41\n",
            "    creation_time   : 2025-08-29T01:40:25.000000Z\n",
            "    encoder         : Google\n",
            "  Duration: 00:29:19.56, start: 0.000000, bitrate: 257 kb/s\n",
            "  Stream #1:0(und): Audio: aac (LC) (mp4a / 0x6134706D), 44100 Hz, stereo, fltp, 1 kb/s (default)\n",
            "    Metadata:\n",
            "      creation_time   : 2025-08-29T01:40:25.000000Z\n",
            "      handler_name    : ISO Media file produced by Google Inc.\n",
            "      vendor_id       : [0][0][0][0]\n",
            "Stream mapping:\n",
            "  Stream #0:0 -> #0:0 (png (native) -> h264 (libx264))\n",
            "  Stream #1:0 -> #0:1 (aac (native) -> aac (native))\n",
            "Press [q] to stop, [?] for help\n",
            "\u001b[1;34m[swscaler @ 0x5c12d8b91080] \u001b[0m\u001b[0;33mWarning: data is not aligned! This can lead to a speed loss\n",
            "\u001b[0m\u001b[1;36m[libx264 @ 0x5c12d8bc3ac0] \u001b[0musing cpu capabilities: MMX2 SSE2Fast SSSE3 SSE4.2 AVX FMA3 BMI2 AVX2\n",
            "\u001b[1;36m[libx264 @ 0x5c12d8bc3ac0] \u001b[0mprofile High, level 3.1, 4:2:0, 8-bit\n",
            "\u001b[1;36m[libx264 @ 0x5c12d8bc3ac0] \u001b[0m264 - core 163 r3060 5db6aa6 - H.264/MPEG-4 AVC codec - Copyleft 2003-2021 - http://www.videolan.org/x264.html - options: cabac=1 ref=3 deblock=1:-3:-3 analyse=0x3:0x113 me=hex subme=7 psy=1 psy_rd=2.00:0.70 mixed_ref=1 me_range=16 chroma_me=1 trellis=1 8x8dct=1 cqm=0 deadzone=21,11 fast_pskip=1 chroma_qp_offset=-4 threads=3 lookahead_threads=1 sliced_threads=0 nr=0 decimate=1 interlaced=0 bluray_compat=0 constrained_intra=0 bframes=3 b_pyramid=2 b_adapt=1 b_bias=0 direct=1 weightb=1 open_gop=0 weightp=2 keyint=250 keyint_min=25 scenecut=40 intra_refresh=0 rc_lookahead=40 rc=crf mbtree=1 crf=23.0 qcomp=0.60 qpmin=0 qpmax=69 qpstep=4 ip_ratio=1.40 aq=1:1.20\n",
            "Output #0, mp4, to 'ai.mp4':\n",
            "  Metadata:\n",
            "    encoder         : Lavf58.76.100\n",
            "  Stream #0:0: Video: h264 (avc1 / 0x31637661), yuv420p(tv, progressive), 1280x720, q=2-31, 30 fps, 15360 tbn\n",
            "    Metadata:\n",
            "      encoder         : Lavc58.134.100 libx264\n",
            "    Side data:\n",
            "      cpb: bitrate max/min/avg: 0/0/0 buffer size: 0 vbv_delay: N/A\n",
            "  Stream #0:1(und): Audio: aac (LC) (mp4a / 0x6134706D), 44100 Hz, stereo, fltp, 128 kb/s (default)\n",
            "    Metadata:\n",
            "      creation_time   : 2025-08-29T01:40:25.000000Z\n",
            "      handler_name    : ISO Media file produced by Google Inc.\n",
            "      vendor_id       : [0][0][0][0]\n",
            "      encoder         : Lavc58.134.100 aac\n",
            "\u001b[0;33mMore than 1000 frames duplicated\n",
            "frame=52835 fps= 19 q=-1.0 Lsize=   87697kB time=00:29:21.06 bitrate= 407.9kbits/s dup=8806 drop=0 speed=0.646x    \n",
            "video:57424kB audio:28405kB subtitle:0kB other streams:0kB global headers:0kB muxing overhead: 2.175287%\n",
            "\u001b[1;36m[libx264 @ 0x5c12d8bc3ac0] \u001b[0mframe I:212   Avg QP:12.90  size:177281\n",
            "\u001b[1;36m[libx264 @ 0x5c12d8bc3ac0] \u001b[0mframe P:13314 Avg QP:12.61  size:  1287\n",
            "\u001b[1;36m[libx264 @ 0x5c12d8bc3ac0] \u001b[0mframe B:39309 Avg QP:10.85  size:   104\n",
            "\u001b[1;36m[libx264 @ 0x5c12d8bc3ac0] \u001b[0mconsecutive B-frames:  0.8%  0.0%  0.0% 99.2%\n",
            "\u001b[1;36m[libx264 @ 0x5c12d8bc3ac0] \u001b[0mmb I  I16..4: 21.8% 44.5% 33.8%\n",
            "\u001b[1;36m[libx264 @ 0x5c12d8bc3ac0] \u001b[0mmb P  I16..4:  0.0%  0.0%  0.0%  P16..4:  2.6%  0.1%  0.2%  0.0%  0.0%    skip:97.1%\n",
            "\u001b[1;36m[libx264 @ 0x5c12d8bc3ac0] \u001b[0mmb B  I16..4:  0.0%  0.0%  0.0%  B16..8:  1.9%  0.0%  0.0%  direct: 0.0%  skip:98.1%  L0:61.7% L1:37.4% BI: 1.0%\n",
            "\u001b[1;36m[libx264 @ 0x5c12d8bc3ac0] \u001b[0m8x8 transform intra:44.6% inter:96.1%\n",
            "\u001b[1;36m[libx264 @ 0x5c12d8bc3ac0] \u001b[0mcoded y,uvDC,uvAC intra: 80.7% 76.0% 72.8% inter: 0.5% 0.0% 0.0%\n",
            "\u001b[1;36m[libx264 @ 0x5c12d8bc3ac0] \u001b[0mi16 v,h,dc,p: 80%  3% 16%  1%\n",
            "\u001b[1;36m[libx264 @ 0x5c12d8bc3ac0] \u001b[0mi8 v,h,dc,ddl,ddr,vr,hd,vl,hu: 13%  9% 51%  5%  5%  4%  4%  4%  5%\n",
            "\u001b[1;36m[libx264 @ 0x5c12d8bc3ac0] \u001b[0mi4 v,h,dc,ddl,ddr,vr,hd,vl,hu: 26% 14% 21%  8%  7%  8%  5%  6%  5%\n",
            "\u001b[1;36m[libx264 @ 0x5c12d8bc3ac0] \u001b[0mi8c dc,h,v,p: 50% 19% 27%  3%\n",
            "\u001b[1;36m[libx264 @ 0x5c12d8bc3ac0] \u001b[0mWeighted P-Frames: Y:0.0% UV:0.0%\n",
            "\u001b[1;36m[libx264 @ 0x5c12d8bc3ac0] \u001b[0mref P L0: 38.1%  0.0% 61.3%  0.6%\n",
            "\u001b[1;36m[libx264 @ 0x5c12d8bc3ac0] \u001b[0mref B L0: 51.1% 48.8%  0.2%\n",
            "\u001b[1;36m[libx264 @ 0x5c12d8bc3ac0] \u001b[0mref B L1: 97.1%  2.9%\n",
            "\u001b[1;36m[libx264 @ 0x5c12d8bc3ac0] \u001b[0mkb/s:267.10\n",
            "\u001b[1;36m[aac @ 0x5c12d8b38580] \u001b[0mQavg: 976.639\n"
          ]
        }
      ],
      "source": [
        "\n",
        "# Run ffmpeg: 1280x720, 30fps, black padding\n",
        "!ffmpeg -y -loop 1 -i \"$img_path\" -i \"$mp3_path\"   -c:v libx264 -tune stillimage -r 30   -vf \"scale=1280:720:force_original_aspect_ratio=decrease,       pad=1280:720:(ow-iw)/2:(oh-ih)/2:color=black,format=yuv420p\"   -c:a aac -b:a 128k -shortest \"$output_path\"\n"
      ]
    },
    {
      "cell_type": "code",
      "execution_count": 10,
      "id": "82118599",
      "metadata": {
        "colab": {
          "base_uri": "https://localhost:8080/",
          "height": 17
        },
        "id": "82118599",
        "outputId": "09f18fd2-dea7-4466-f143-1ebcf18861e3"
      },
      "outputs": [
        {
          "output_type": "display_data",
          "data": {
            "text/plain": [
              "<IPython.core.display.Javascript object>"
            ],
            "application/javascript": [
              "\n",
              "    async function download(id, filename, size) {\n",
              "      if (!google.colab.kernel.accessAllowed) {\n",
              "        return;\n",
              "      }\n",
              "      const div = document.createElement('div');\n",
              "      const label = document.createElement('label');\n",
              "      label.textContent = `Downloading \"${filename}\": `;\n",
              "      div.appendChild(label);\n",
              "      const progress = document.createElement('progress');\n",
              "      progress.max = size;\n",
              "      div.appendChild(progress);\n",
              "      document.body.appendChild(div);\n",
              "\n",
              "      const buffers = [];\n",
              "      let downloaded = 0;\n",
              "\n",
              "      const channel = await google.colab.kernel.comms.open(id);\n",
              "      // Send a message to notify the kernel that we're ready.\n",
              "      channel.send({})\n",
              "\n",
              "      for await (const message of channel.messages) {\n",
              "        // Send a message to notify the kernel that we're ready.\n",
              "        channel.send({})\n",
              "        if (message.buffers) {\n",
              "          for (const buffer of message.buffers) {\n",
              "            buffers.push(buffer);\n",
              "            downloaded += buffer.byteLength;\n",
              "            progress.value = downloaded;\n",
              "          }\n",
              "        }\n",
              "      }\n",
              "      const blob = new Blob(buffers, {type: 'application/binary'});\n",
              "      const a = document.createElement('a');\n",
              "      a.href = window.URL.createObjectURL(blob);\n",
              "      a.download = filename;\n",
              "      div.appendChild(a);\n",
              "      a.click();\n",
              "      div.remove();\n",
              "    }\n",
              "  "
            ]
          },
          "metadata": {}
        },
        {
          "output_type": "display_data",
          "data": {
            "text/plain": [
              "<IPython.core.display.Javascript object>"
            ],
            "application/javascript": [
              "download(\"download_35ab9381-fd46-4961-a6a7-7efc81d20d9a\", \"ai.mp4\", 89801283)"
            ]
          },
          "metadata": {}
        }
      ],
      "source": [
        "\n",
        "# Download the result\n",
        "from google.colab import files\n",
        "files.download(output_path)\n"
      ]
    }
  ],
  "metadata": {
    "colab": {
      "provenance": []
    },
    "language_info": {
      "name": "python"
    },
    "kernelspec": {
      "name": "python3",
      "display_name": "Python 3"
    }
  },
  "nbformat": 4,
  "nbformat_minor": 5
}