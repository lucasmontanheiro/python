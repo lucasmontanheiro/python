{
  "nbformat": 4,
  "nbformat_minor": 0,
  "metadata": {
    "colab": {
      "name": "Programming_Python_02_Lists.ipynb",
      "provenance": [],
      "toc_visible": true,
      "authorship_tag": "ABX9TyPw7yH25LZjnErB2KKlvYYa",
      "include_colab_link": true
    },
    "kernelspec": {
      "name": "python3",
      "display_name": "Python 3"
    },
    "language_info": {
      "name": "python"
    }
  },
  "cells": [
    {
      "cell_type": "markdown",
      "metadata": {
        "id": "view-in-github",
        "colab_type": "text"
      },
      "source": [
        "<a href=\"https://colab.research.google.com/github/lucasmontanheiro/colab/blob/main/Theory/Programming_Python_02_Lists.ipynb\" target=\"_parent\"><img src=\"https://colab.research.google.com/assets/colab-badge.svg\" alt=\"Open In Colab\"/></a>"
      ]
    },
    {
      "cell_type": "markdown",
      "source": [
        "#Programming in Python\n",
        "\n",
        "### Lists"
      ],
      "metadata": {
        "id": "mGnJh30g3kBT"
      }
    },
    {
      "cell_type": "markdown",
      "source": [
        "##Using Lists\n",
        "A list is a kind of sequence. Sequences simply provide some means of allowing multiple data items to exist together in a single storage unit, but as separate entities. "
      ],
      "metadata": {
        "id": "6oj-LNxtEnLG"
      }
    },
    {
      "cell_type": "markdown",
      "source": [
        "**Methods**"
      ],
      "metadata": {
        "id": "h3aPCPxKq_Ss"
      }
    },
    {
      "cell_type": "markdown",
      "source": [
        "1.   **pop()**\n",
        "\n",
        "Python has a special syntax for accessing the last element in a list. By asking for the item at index -1, Python always returns the last item in the list. The pop() method removes the last item in a list, but it lets you work with that item after removing it.\n",
        "\n",
        "```\n",
        "# create a list of prime numbers\n",
        "prime_numbers = [2, 3, 5, 7]\n",
        "\n",
        "# remove the element at index 2\n",
        "removed_element = prime_numbers.pop(2)\n",
        "```"
      ],
      "metadata": {
        "id": "NgarejMuppGl"
      }
    },
    {
      "cell_type": "markdown",
      "source": [
        "###List\n",
        "- Ordered: indexes allow to move in the sequence\n",
        "- Mutable: it accepts different types\n",
        "- Duplicates allowed"
      ],
      "metadata": {
        "id": "19t27aA_VLrJ"
      }
    },
    {
      "cell_type": "code",
      "source": [
        "#If you use negative indexes, it will pull the last items\n",
        "fruits = [\"banana\", \"apple\", \"cherry\"]\n",
        "fruits[-1] #last fruit in the list"
      ],
      "metadata": {
        "colab": {
          "base_uri": "https://localhost:8080/",
          "height": 36
        },
        "id": "9S7G3dDYVQzj",
        "outputId": "6e6c61a7-12ad-404e-aba4-3263d753b288"
      },
      "execution_count": null,
      "outputs": [
        {
          "output_type": "execute_result",
          "data": {
            "text/plain": [
              "'cherry'"
            ],
            "application/vnd.google.colaboratory.intrinsic+json": {
              "type": "string"
            }
          },
          "metadata": {},
          "execution_count": 1
        }
      ]
    },
    {
      "cell_type": "code",
      "source": [
        "#for adding items use the .append method\n",
        "fruits.append(\"orange\")\n",
        "fruits "
      ],
      "metadata": {
        "colab": {
          "base_uri": "https://localhost:8080/"
        },
        "id": "IYOfDYmpVof2",
        "outputId": "e730d349-f73b-426e-c621-7e75a0fac9ad"
      },
      "execution_count": null,
      "outputs": [
        {
          "output_type": "execute_result",
          "data": {
            "text/plain": [
              "['banana', 'apple', 'cherry', 'orange']"
            ]
          },
          "metadata": {},
          "execution_count": 2
        }
      ]
    },
    {
      "cell_type": "code",
      "source": [
        "#To reverse the list you can use .reverse\n",
        "fruits.reverse()\n",
        "fruits"
      ],
      "metadata": {
        "colab": {
          "base_uri": "https://localhost:8080/"
        },
        "id": "QY6HDIo5WJoS",
        "outputId": "4f9dfffa-1cf3-4692-f580-992946227728"
      },
      "execution_count": null,
      "outputs": [
        {
          "output_type": "execute_result",
          "data": {
            "text/plain": [
              "['orange', 'cherry', 'apple', 'banana']"
            ]
          },
          "metadata": {},
          "execution_count": 3
        }
      ]
    },
    {
      "cell_type": "markdown",
      "source": [
        "###Tuples\n",
        "A tuple is a collection used to create complex list-like sequences. An advantage of tuples is that you can nest the content of a tuple. This feature lets you create structures that can hold employee records or x-y coordinate pairs. "
      ],
      "metadata": {
        "id": "wqWluTliE5BW"
      }
    },
    {
      "cell_type": "code",
      "source": [
        "#creating a tuple\n",
        "t = (100, 200)\n",
        "print(t[1])"
      ],
      "metadata": {
        "colab": {
          "base_uri": "https://localhost:8080/"
        },
        "id": "aOwWoeA-7ndn",
        "outputId": "00976a60-c251-4286-fda3-81498192de97"
      },
      "execution_count": null,
      "outputs": [
        {
          "output_type": "stream",
          "name": "stdout",
          "text": [
            "200\n"
          ]
        }
      ]
    },
    {
      "cell_type": "markdown",
      "source": [
        "###Dictionaries\n",
        "As with the real dictionaries, you create key/value pairs when using the dictionary collection (think of a word and its associated definition). A dictionary provides incredibly fast search times and makes ordering data significantly easier. "
      ],
      "metadata": {
        "id": "DKqbTFFtFKq4"
      }
    },
    {
      "cell_type": "code",
      "source": [
        "#creating a dictionary\n",
        "d = { \"name\" : \"Alan\" }\n",
        "print(d[\"name\"])"
      ],
      "metadata": {
        "colab": {
          "base_uri": "https://localhost:8080/"
        },
        "id": "DfUMHi-S75fJ",
        "outputId": "b7b74447-bee1-4dc3-ab72-2b8a1a4e5a9c"
      },
      "execution_count": null,
      "outputs": [
        {
          "output_type": "stream",
          "name": "stdout",
          "text": [
            "Alan\n"
          ]
        }
      ]
    },
    {
      "cell_type": "markdown",
      "source": [
        "###Sets\n",
        "\n",
        "In Python, Set is an unordered collection of data type that is iterable, mutable and has no duplicate elements. When used in a for loop, set retrieves only unique values (non-repetitive).\n",
        "\n",
        "A set is a collection in which each item must be unique:    favorite_languages = {        --snip--        }    print(\"The following languages have been mentioned:\") ➊ for language in set(favorite_languages.values()):        print(language.title()) When you wrap set() around a list that contains duplicate items, Python identifies the unique items in the list and builds a set from those items.\n",
        "\n",
        "\n",
        "\n",
        "```\n",
        "for language in set(favorite_languages.values()): \n",
        "  print(language.title())\n",
        "```\n",
        "\n"
      ],
      "metadata": {
        "id": "rE9gVEklrcPv"
      }
    },
    {
      "cell_type": "code",
      "source": [
        "SetA = set(['Red','Blue','Green','Black'])\n",
        "SetB = set(['Black','Green','Yellow','Orange'])\n",
        "\n",
        "SetX = SetA.union(SetB)\n",
        "SetY = SetA.intersection(SetB)\n",
        "SetZ = SetA.difference(SetB)\n",
        "\n",
        "print('{0}\\n{1}\\n{2}\\n'.format(SetX,SetY,SetZ))"
      ],
      "metadata": {
        "id": "7m5GkYTSCO6I"
      },
      "execution_count": null,
      "outputs": []
    },
    {
      "cell_type": "markdown",
      "source": [
        "###Stacks\n",
        "Most programming languages support stacks directly. Howeer, Python doesn't support the stack, although there's a workaround for that. A stack is a last in/first out (LIFO) sequence. This of a pile of pancakes: you can add new pancakes to the top and also take them off of the top. A stack is an important collection that you can simulate in Python using a list. "
      ],
      "metadata": {
        "id": "1vhXmNifFdXF"
      }
    },
    {
      "cell_type": "markdown",
      "source": [
        "###Queues\n",
        "A queue is a first in/first out (FIFO) collection. You use it to track items that need to be processed in some way. This of a queue as a line at the bank. You go into the line, wait your turn, and are eventually called to talk with a teller. "
      ],
      "metadata": {
        "id": "FDdi7hksF3k3"
      }
    },
    {
      "cell_type": "markdown",
      "source": [
        "###Deques\n",
        "A double-ended queue (deque, pronounced deck) is a queue-like structure that lets you add or remove items from either end, but not from the middle. You can use a deque as a queue or a stack or any other kind of collection to which you're adding and from which you're removing items in an orderly manner (in contrast to lists, tuples, and dictionaries, which allow randomized access and management)."
      ],
      "metadata": {
        "id": "gyFGr1ObGFh3"
      }
    }
  ]
}