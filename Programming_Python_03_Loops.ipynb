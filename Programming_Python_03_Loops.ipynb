{
  "nbformat": 4,
  "nbformat_minor": 0,
  "metadata": {
    "colab": {
      "provenance": [],
      "toc_visible": true,
      "authorship_tag": "ABX9TyMQqMJ/i3Fy0BLgKFuvGskj",
      "include_colab_link": true
    },
    "kernelspec": {
      "name": "python3",
      "display_name": "Python 3"
    },
    "language_info": {
      "name": "python"
    }
  },
  "cells": [
    {
      "cell_type": "markdown",
      "metadata": {
        "id": "view-in-github",
        "colab_type": "text"
      },
      "source": [
        "<a href=\"https://colab.research.google.com/github/lucasmontanheiro/colab/blob/main/Theory/Programming_Python_03_Loops.ipynb\" target=\"_parent\"><img src=\"https://colab.research.google.com/assets/colab-badge.svg\" alt=\"Open In Colab\"/></a>"
      ]
    },
    {
      "cell_type": "markdown",
      "source": [
        "#Programming in Python"
      ],
      "metadata": {
        "id": "6Way7Fgc_qyH"
      }
    },
    {
      "cell_type": "markdown",
      "source": [
        ">[Programming in Python](#scrollTo=6Way7Fgc_qyH)\n",
        "\n",
        ">>>[Basic Loops](#scrollTo=mvgNkekTCxE0)\n",
        "\n",
        ">>>[Intermediate Loops](#scrollTo=u6pDvYeuCiXW)\n",
        "\n"
      ],
      "metadata": {
        "colab_type": "toc",
        "id": "fPjf63ecyxd8"
      }
    },
    {
      "cell_type": "markdown",
      "source": [
        "###Basic Loops"
      ],
      "metadata": {
        "id": "mvgNkekTCxE0"
      }
    },
    {
      "cell_type": "code",
      "source": [
        "a = [1, 2, 3]\n",
        "# Loop without an index\n",
        "for x in a:\n",
        "  print(x)"
      ],
      "metadata": {
        "id": "vETautpfBMa8",
        "colab": {
          "base_uri": "https://localhost:8080/"
        },
        "outputId": "75994568-98d1-4807-89f7-4d201e6f203c"
      },
      "execution_count": 2,
      "outputs": [
        {
          "output_type": "stream",
          "name": "stdout",
          "text": [
            "1\n",
            "2\n",
            "3\n"
          ]
        }
      ]
    },
    {
      "cell_type": "code",
      "source": [
        "a = [1, 2, 3]\n",
        "# Loop using the index\n",
        "for i in range(len(a)):\n",
        "  print(a[i])"
      ],
      "metadata": {
        "id": "OJhDhHpcBOo0",
        "colab": {
          "base_uri": "https://localhost:8080/"
        },
        "outputId": "d005efec-8944-40de-e257-5745a97d860e"
      },
      "execution_count": 3,
      "outputs": [
        {
          "output_type": "stream",
          "name": "stdout",
          "text": [
            "1\n",
            "2\n",
            "3\n"
          ]
        }
      ]
    },
    {
      "cell_type": "code",
      "source": [
        "a = [1, 2, 3]\n",
        "# Loop through values and indices at the same time\n",
        "for i, val in enumerate(a):\n",
        "  print(i, val)"
      ],
      "metadata": {
        "id": "It7guXiqBP_U",
        "colab": {
          "base_uri": "https://localhost:8080/"
        },
        "outputId": "24d6fd02-839a-4376-e862-213cd2595097"
      },
      "execution_count": 4,
      "outputs": [
        {
          "output_type": "stream",
          "name": "stdout",
          "text": [
            "0 1\n",
            "1 2\n",
            "2 3\n"
          ]
        }
      ]
    },
    {
      "cell_type": "code",
      "source": [
        "a = [1, 2, 3]\n",
        "b = [4, 5, 6]\n",
        "# Loop through pairs of elements in a and b\n",
        "for x, y in zip(a, b):\n",
        "  print(x, y)"
      ],
      "metadata": {
        "id": "dr3d2o_DBSVk",
        "colab": {
          "base_uri": "https://localhost:8080/"
        },
        "outputId": "84da2eaf-ab77-46cf-fbd2-6e85d02aaed2"
      },
      "execution_count": 5,
      "outputs": [
        {
          "output_type": "stream",
          "name": "stdout",
          "text": [
            "1 4\n",
            "2 5\n",
            "3 6\n"
          ]
        }
      ]
    },
    {
      "cell_type": "code",
      "source": [
        "a = [1, 2, 3]\n",
        "b = [4, 5, 6]\n",
        "# Nested loop \n",
        "# (every possible combination of elements from a and b)\n",
        "for x in a:\n",
        "  for y in b:\n",
        "    print(x, y) "
      ],
      "metadata": {
        "id": "aZhaSMHABVxL",
        "colab": {
          "base_uri": "https://localhost:8080/"
        },
        "outputId": "dfae5553-df3a-4753-aa38-90651b060dd4"
      },
      "execution_count": 6,
      "outputs": [
        {
          "output_type": "stream",
          "name": "stdout",
          "text": [
            "1 4\n",
            "1 5\n",
            "1 6\n",
            "2 4\n",
            "2 5\n",
            "2 6\n",
            "3 4\n",
            "3 5\n",
            "3 6\n"
          ]
        }
      ]
    },
    {
      "cell_type": "code",
      "execution_count": 7,
      "metadata": {
        "colab": {
          "base_uri": "https://localhost:8080/"
        },
        "id": "cVIpgEle_Z_7",
        "outputId": "c9316723-c583-4c34-951e-f3e3e03e377d"
      },
      "outputs": [
        {
          "output_type": "stream",
          "name": "stdout",
          "text": [
            "1\n",
            "2\n",
            "Found!\n",
            "4\n",
            "5\n"
          ]
        }
      ],
      "source": [
        "# for loops with break and continue\n",
        "nums = [1,2,3,4,5]\n",
        "\n",
        "for num in nums:\n",
        "  if num ==3:\n",
        "    print(\"Found!\")\n",
        "    #break # It stops the loop\n",
        "    continue # It doesn't print number 3\n",
        "  print(num)"
      ]
    },
    {
      "cell_type": "code",
      "source": [
        "# Using range function\n",
        "for i in range(5):\n",
        "  print(i)"
      ],
      "metadata": {
        "colab": {
          "base_uri": "https://localhost:8080/"
        },
        "id": "i608CoOV_4wH",
        "outputId": "26799dc9-59af-424c-8cce-f3205c7b2901"
      },
      "execution_count": 8,
      "outputs": [
        {
          "output_type": "stream",
          "name": "stdout",
          "text": [
            "0\n",
            "1\n",
            "2\n",
            "3\n",
            "4\n"
          ]
        }
      ]
    },
    {
      "cell_type": "code",
      "source": [
        "# Using while loop\n",
        "x = 0\n",
        "\n",
        "while x < 5:\n",
        "  print(x)\n",
        "  x += 1"
      ],
      "metadata": {
        "colab": {
          "base_uri": "https://localhost:8080/"
        },
        "id": "E7mSOoz-AyKa",
        "outputId": "c9829e70-2d0e-4ebf-dca7-cdc73b011094"
      },
      "execution_count": 9,
      "outputs": [
        {
          "output_type": "stream",
          "name": "stdout",
          "text": [
            "0\n",
            "1\n",
            "2\n",
            "3\n",
            "4\n"
          ]
        }
      ]
    },
    {
      "cell_type": "markdown",
      "source": [
        "**List Comprehensions**\n",
        "\n",
        "The approach described earlier for generating the list squares consisted of using three or four lines of code. A list comprehension allows you to generate this same list in just one line of code. \n",
        "\n",
        "A list comprehension combines the for loop and the creation of new elements into one line, and automatically appends each new element. List comprehensions are not always presented to beginners, but I have included them here because you’ll most likely see them as soon as you start looking at other people’s code. The following example builds the same list of square numbers you saw earlier but uses a list comprehension: \n",
        "\n",
        "```\n",
        "squares = [value**2 for value in range(1, 11)] \n",
        "print(squares)\n",
        "```\n"
      ],
      "metadata": {
        "id": "1WSjKOq5BQmu"
      }
    },
    {
      "cell_type": "code",
      "source": [],
      "metadata": {
        "id": "3cRlMXttCrGz"
      },
      "execution_count": 9,
      "outputs": []
    },
    {
      "cell_type": "markdown",
      "source": [
        "###Intermediate Loops"
      ],
      "metadata": {
        "id": "u6pDvYeuCiXW"
      }
    },
    {
      "cell_type": "code",
      "source": [
        "# zip() coordinates multiple lists with the same lenght\n",
        "\n",
        "import itertools\n",
        "\n",
        "li_1 = ['a', 'b', 'c']\n",
        "li_2 = [1,2]\n",
        "\n",
        "for f,o in zip(li_1, li_2):\n",
        "  print(f,o)\n",
        "\n",
        "print(\"--- next example ---\")\n",
        "\n",
        "for f,o in itertools.zip_longest(li_1, li_2):\n",
        "  print(f,o)"
      ],
      "metadata": {
        "colab": {
          "base_uri": "https://localhost:8080/"
        },
        "id": "EDU3gFm2ClxM",
        "outputId": "a5bd909b-4561-40b8-9580-2b078905a39c"
      },
      "execution_count": 10,
      "outputs": [
        {
          "output_type": "stream",
          "name": "stdout",
          "text": [
            "a 1\n",
            "b 2\n",
            "--- next example ---\n",
            "a 1\n",
            "b 2\n",
            "c None\n"
          ]
        }
      ]
    },
    {
      "cell_type": "code",
      "source": [
        "# enumerate() to avoid counters\n",
        "\n",
        "for index, value in enumerate(li_1):\n",
        "  print(index, value)"
      ],
      "metadata": {
        "colab": {
          "base_uri": "https://localhost:8080/"
        },
        "id": "jGm1gK17iVv1",
        "outputId": "b1dc8763-2644-44c1-dad6-6eb37b8aa979"
      },
      "execution_count": 12,
      "outputs": [
        {
          "output_type": "stream",
          "name": "stdout",
          "text": [
            "0 a\n",
            "1 b\n",
            "2 c\n"
          ]
        }
      ]
    },
    {
      "cell_type": "markdown",
      "source": [
        "###Hangman"
      ],
      "metadata": {
        "id": "F1xT-eg5kHub"
      }
    },
    {
      "cell_type": "code",
      "source": [
        "display = \"_____\"\n",
        "word = \"index\"\n",
        "\n",
        "for index, value in enumerate(word):\n",
        "  if value == \"n\":\n",
        "    display = display[:index] + value + display[index + 1:]\n",
        "    #display[index] = value\n",
        "\n",
        "print(display)\n"
      ],
      "metadata": {
        "colab": {
          "base_uri": "https://localhost:8080/"
        },
        "id": "Gz-xNAwUi-WU",
        "outputId": "71f4ce5c-66ff-4ddf-8d7f-faff88a5e57b"
      },
      "execution_count": 16,
      "outputs": [
        {
          "output_type": "stream",
          "name": "stdout",
          "text": [
            "_n___\n"
          ]
        }
      ]
    }
  ]
}