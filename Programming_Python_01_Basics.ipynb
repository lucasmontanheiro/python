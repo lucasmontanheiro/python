{
  "nbformat": 4,
  "nbformat_minor": 0,
  "metadata": {
    "colab": {
      "name": "Programming_Python_01_Basics.ipynb",
      "provenance": [],
      "toc_visible": true,
      "authorship_tag": "ABX9TyM7bhVG8M5oPvp/gdsb1/iu",
      "include_colab_link": true
    },
    "kernelspec": {
      "name": "python3",
      "display_name": "Python 3"
    },
    "language_info": {
      "name": "python"
    }
  },
  "cells": [
    {
      "cell_type": "markdown",
      "metadata": {
        "id": "view-in-github",
        "colab_type": "text"
      },
      "source": [
        "<a href=\"https://colab.research.google.com/github/lucasmontanheiro/colab/blob/main/Theory/Programming_Python_01_Basics.ipynb\" target=\"_parent\"><img src=\"https://colab.research.google.com/assets/colab-badge.svg\" alt=\"Open In Colab\"/></a>"
      ]
    },
    {
      "cell_type": "markdown",
      "source": [
        "#Programming in Python\n",
        "\n",
        "###Basics"
      ],
      "metadata": {
        "id": "Kvnhr34hBkzE"
      }
    },
    {
      "cell_type": "markdown",
      "source": [
        "####Data types"
      ],
      "metadata": {
        "id": "a3cdVnLjAqMW"
      }
    },
    {
      "cell_type": "code",
      "execution_count": null,
      "metadata": {
        "id": "jW9uCK2aAcuG"
      },
      "outputs": [],
      "source": [
        "a = 1\n",
        "# Return the type of an object\n",
        "# Here - int\n",
        "type(a)"
      ]
    },
    {
      "cell_type": "code",
      "source": [
        "# float (i.e. floating point numbers)\n",
        "a = 1.0\n",
        "b = 0.5 \n",
        "a, b"
      ],
      "metadata": {
        "id": "AX5-kzd_AuWu"
      },
      "execution_count": null,
      "outputs": []
    },
    {
      "cell_type": "code",
      "source": [
        "# string\n",
        "a = 'some text'\n",
        "b = \"1.0\"\n",
        "a, b"
      ],
      "metadata": {
        "id": "UxR0aHNXAwoE"
      },
      "execution_count": null,
      "outputs": []
    },
    {
      "cell_type": "code",
      "source": [
        "# boolean\n",
        "a = True\n",
        "b = 2 < 1  \n",
        "\n",
        "a, b"
      ],
      "metadata": {
        "id": "XUp50lwjAyx0"
      },
      "execution_count": null,
      "outputs": []
    },
    {
      "cell_type": "code",
      "source": [
        "# list\n",
        "a = [1, 2, 3]\n",
        "\n",
        "# The elements of a list can be of different types\n",
        "b = [1, \"abc\", [1, 2, 3]]\n",
        "\n",
        "a, b"
      ],
      "metadata": {
        "id": "wNqQGQaaA3pc"
      },
      "execution_count": null,
      "outputs": []
    },
    {
      "cell_type": "code",
      "source": [
        "# tuple\n",
        "b = (4, 5, 6)\n",
        "# dictionary\n",
        "a = {'a': 1, 'b': 2}"
      ],
      "metadata": {
        "id": "4X2f4SWfA489"
      },
      "execution_count": null,
      "outputs": []
    },
    {
      "cell_type": "markdown",
      "source": [
        "###Print"
      ],
      "metadata": {
        "id": "qxTOPyaoCh1Y"
      }
    },
    {
      "cell_type": "code",
      "source": [
        "# f-strings are an alternative ('improved') way of doing string formatting\n",
        "# i.e. rendering values in strings\n",
        "# It's a different syntax (but same effect) as str.format() \n",
        "\n",
        "name = 'Alice'\n",
        "\n",
        "f_string = f'Hello there {name}!'\n",
        "str_format_string = 'Hello there {name}!'.format(name=name)\n",
        "\n",
        "print(f_string)\n",
        "print(str_format_string)\n",
        "\n",
        "# We are going to use this in a lot of the queries and paths below to substitute\n",
        "# in your LDAP"
      ],
      "metadata": {
        "id": "cpij5-7-CkLy"
      },
      "execution_count": null,
      "outputs": []
    }
  ]
}