{
 "cells": [
  {
   "cell_type": "markdown",
   "id": "cbfcaf0e",
   "metadata": {},
   "source": [
    "# 🎧 Beginner Audio Mixing in Python (Google Colab)\n",
    "Welcome! This hands-on tutorial shows you how to:\n",
    "1. Install lightweight audio libraries\n",
    "2. Upload a backing track (a song)\n",
    "3. Record your microphone **in Colab** (right from your browser)\n",
    "4. Mix your voice with the song using **pydub**\n",
    "5. Play and download the final mix\n",
    "\n",
    "> **Tip:** Run each cell in order (press ▶️ on the left of each cell).\n"
   ]
  },
  {
   "cell_type": "markdown",
   "id": "dd09fc2b",
   "metadata": {},
   "source": [
    "## What you'll learn\n",
    "- The role of each lightweight library:\n",
    "  - **pydub** — simple audio editing/mixing (overlay, gain, fade, export)\n",
    "  - **soundfile** — read/write audio data\n",
    "  - **IPython.display.Audio** — play audio in the notebook\n",
    "- How to **upload** a song file\n",
    "- How to **record** your mic from the browser into Colab\n",
    "- How to **normalize levels** and **mix** tracks together\n",
    "- How to **export** (save) your result as WAV/MP3\n"
   ]
  },
  {
   "cell_type": "markdown",
   "id": "6b130afa",
   "metadata": {},
   "source": [
    "## 1) Setup: Install dependencies\n",
    "We’ll install `pydub` and `soundfile`. We also install `ffmpeg`, which `pydub` uses behind the scenes to open and convert compressed formats (like MP3/WEBM/M4A)."
   ]
  },
  {
   "cell_type": "code",
   "execution_count": null,
   "id": "cb3e4e41",
   "metadata": {},
   "outputs": [],
   "source": [
    "#@title Install libraries (run this once)\n",
    "!apt-get -y install ffmpeg > /dev/null\n",
    "!pip -q install pydub soundfile numpy > /dev/null\n",
    "\n",
    "import os, sys, io, base64, numpy as np\n",
    "from IPython.display import Audio, display, Javascript\n",
    "from google.colab import files\n",
    "from google.colab.output import eval_js\n",
    "from pydub import AudioSegment\n",
    "import soundfile as sf\n",
    "\n",
    "print(\"✅ Setup complete. Libraries imported and ffmpeg installed.\")"
   ]
  },
  {
   "cell_type": "markdown",
   "id": "ba6339b6",
   "metadata": {},
   "source": [
    "## 2) Upload your song (backing track)\n",
    "Choose a music file from your computer (e.g. `.mp3`, `.wav`, `.m4a`). After upload, we store the **filename** so we can load it later with `pydub`.\n"
   ]
  },
  {
   "cell_type": "code",
   "execution_count": null,
   "id": "4d544fb7",
   "metadata": {},
   "outputs": [],
   "source": [
    "#@title Upload a song file\n",
    "uploaded = files.upload()  # Use the file picker UI\n",
    "if uploaded:\n",
    "    song_filename = list(uploaded.keys())[0]\n",
    "    print(f\"Uploaded: {song_filename}\")\n",
    "else:\n",
    "    song_filename = None\n",
    "    print(\"No file uploaded yet.\")"
   ]
  },
  {
   "cell_type": "markdown",
   "id": "40a8643f",
   "metadata": {},
   "source": [
    "## 3) Record your microphone in the browser\n",
    "This uses your browser’s mic to capture audio as **WEBM**, then we convert it to WAV internally.\n",
    "\n",
    "- Press **Record** to start (you’ll see a permission prompt).\n",
    "- Recording will automatically stop after the chosen duration.\n",
    "- You can re-run this cell to record again.\n"
   ]
  },
  {
   "cell_type": "code",
   "execution_count": null,
   "id": "3c03f802",
   "metadata": {},
   "outputs": [],
   "source": [
    "#@title Record microphone\n",
    "duration_seconds = 8  #@param {type:\"slider\", min:3, max:60, step:1}\n",
    "output_wav = \"mic_recording.wav\"  #@param {type:\"string\"}\n",
    "\n",
    "# JavaScript function to capture microphone as WEBM and return base64\n",
    "js = Javascript(r'''\n",
    "async function recordAudio(sec=5) {\n",
    "  const stream = await navigator.mediaDevices.getUserMedia({audio: true});\n",
    "  const mediaRecorder = new MediaRecorder(stream);\n",
    "  let chunks = [];\n",
    "  mediaRecorder.ondataavailable = (e) => chunks.push(e.data);\n",
    "  mediaRecorder.start();\n",
    "  await new Promise(resolve => setTimeout(resolve, sec * 1000));\n",
    "  mediaRecorder.stop();\n",
    "  await new Promise(resolve => mediaRecorder.onstop = resolve);\n",
    "  const blob = new Blob(chunks, {type: 'audio/webm'});\n",
    "  const arrayBuffer = await blob.arrayBuffer();\n",
    "  const base64String = btoa(String.fromCharCode(...new Uint8Array(arrayBuffer)));\n",
    "  return base64String;\n",
    "}\n",
    "''')\n",
    "\n",
    "display(js)\n",
    "\n",
    "print(\"🎙️ Recording... Please wait\", duration_seconds, \"seconds\")\n",
    "base64_audio = eval_js(f\"recordAudio({duration_seconds})\")\n",
    "print(\"✅ Recording finished. Converting to WAV...\")\n",
    "\n",
    "# Decode WEBM bytes\n",
    "webm_bytes = base64.b64decode(base64_audio)\n",
    "\n",
    "# Use pydub (ffmpeg) to read WEBM from memory, then export to WAV\n",
    "audio = AudioSegment.from_file(io.BytesIO(webm_bytes), format=\"webm\")\n",
    "audio = audio.set_channels(1)  # mono mic is fine\n",
    "audio = audio.set_frame_rate(44100)\n",
    "audio.export(output_wav, format=\"wav\")\n",
    "print(f\"Saved microphone recording to: {output_wav}\")\n",
    "\n",
    "# Quick playback\n",
    "display(Audio(output_wav))"
   ]
  },
  {
   "cell_type": "markdown",
   "id": "1b2c23ab",
   "metadata": {},
   "source": [
    "## 4) Load audio and basic checks\n",
    "We’ll load both the **song** and **mic recording** with `pydub`. We’ll also resample them to common settings to avoid playback surprises.\n"
   ]
  },
  {
   "cell_type": "code",
   "execution_count": null,
   "id": "cf5bda00",
   "metadata": {},
   "outputs": [],
   "source": [
    "#@title Load files with pydub and normalize format\n",
    "assert song_filename is not None, \"Please upload a song in step 2.\"\n",
    "\n",
    "# Load the song (any format supported by ffmpeg), and the mic (WAV)\n",
    "song = AudioSegment.from_file(song_filename)\n",
    "mic = AudioSegment.from_file(\"mic_recording.wav\")\n",
    "\n",
    "# Convert both to 44.1kHz stereo for consistency\n",
    "song = song.set_frame_rate(44100).set_channels(2)\n",
    "mic = mic.set_frame_rate(44100).set_channels(2)\n",
    "\n",
    "print(\"Song duration (s):\", round(len(song)/1000, 2))\n",
    "print(\"Mic duration (s):\", round(len(mic)/1000, 2))"
   ]
  },
  {
   "cell_type": "markdown",
   "id": "0c66c80e",
   "metadata": {},
   "source": [
    "## 5) Align lengths (optional)\n",
    "Often your recording is shorter than the song. You can either:\n",
    "- Trim the song to the mic length, or\n",
    "- Loop/extend your mic (less common), or\n",
    "- Keep the song full-length and only sing over a part.\n",
    "\n",
    "Below we **trim the song** to the mic’s length for a quick demo. You can change this behavior.\n"
   ]
  },
  {
   "cell_type": "code",
   "execution_count": null,
   "id": "42e52e7d",
   "metadata": {},
   "outputs": [],
   "source": [
    "#@title Trim the song to the length of your mic (optional)\n",
    "trim_to_mic = True  #@param {type:\"boolean\"}\n",
    "\n",
    "if trim_to_mic:\n",
    "    target_len = len(mic)  # milliseconds\n",
    "    song_trimmed = song[:target_len]\n",
    "else:\n",
    "    song_trimmed = song\n",
    "\n",
    "print(\"Working song length (s):\", round(len(song_trimmed)/1000, 2))"
   ]
  },
  {
   "cell_type": "markdown",
   "id": "a97538f1",
   "metadata": {},
   "source": [
    "## 6) Gain staging (set levels)\n",
    "Basic mixing step: adjust volumes so neither track overwhelms the other.  \n",
    "Use the sliders below to tweak:\n",
    "- **song_gain_db**: negative values make the song quieter\n",
    "- **mic_gain_db**: boost or reduce your vocal\n",
    "\n",
    "> Start by turning the song down a bit (e.g. `-6 dB`) so your vocal is clearly heard.\n"
   ]
  },
  {
   "cell_type": "code",
   "execution_count": null,
   "id": "5813a316",
   "metadata": {},
   "outputs": [],
   "source": [
    "#@title Adjust gain levels\n",
    "song_gain_db = -6.0  #@param {type:\"slider\", min:-24, max:12, step:0.5}\n",
    "mic_gain_db = 3.0    #@param {type:\"slider\", min:-24, max:12, step:0.5}\n",
    "\n",
    "song_ready = song_trimmed + song_gain_db\n",
    "mic_ready = mic + mic_gain_db\n",
    "\n",
    "print(f\"Applied {song_gain_db} dB to song, {mic_gain_db} dB to mic.\")"
   ]
  },
  {
   "cell_type": "markdown",
   "id": "f6498a60",
   "metadata": {},
   "source": [
    "## 7) Optional: fades\n",
    "Fades help avoid clicks when audio starts/stops abruptly."
   ]
  },
  {
   "cell_type": "code",
   "execution_count": null,
   "id": "cb4e149b",
   "metadata": {},
   "outputs": [],
   "source": [
    "#@title Apply fades (optional)\n",
    "apply_fades = True  #@param {type:\"boolean\"}\n",
    "fade_in_ms = 1000   #@param {type:\"slider\", min:0, max:5000, step:100}\n",
    "fade_out_ms = 1000  #@param {type:\"slider\", min:0, max:5000, step:100}\n",
    "\n",
    "if apply_fades:\n",
    "    song_ready = song_ready.fade_in(fade_in_ms).fade_out(fade_out_ms)\n",
    "    mic_ready = mic_ready.fade_in(fade_in_ms).fade_out(fade_out_ms)\n",
    "\n",
    "print(\"Fades applied.\" if apply_fades else \"No fades applied.\")"
   ]
  },
  {
   "cell_type": "markdown",
   "id": "49b6feb5",
   "metadata": {},
   "source": [
    "## 8) Mix (overlay) the tracks\n",
    "We’ll **overlay** the vocal on top of the song. If your vocal starts a bit late, you can add a delay offset.\n"
   ]
  },
  {
   "cell_type": "code",
   "execution_count": null,
   "id": "af7e8b83",
   "metadata": {},
   "outputs": [],
   "source": [
    "#@title Create the mix\n",
    "vocal_delay_ms = 0  #@param {type:\"slider\", min:0, max:5000, step:100}\n",
    "\n",
    "# Optionally pad the vocal with silence if you want it to start later\n",
    "if vocal_delay_ms > 0:\n",
    "    mic_ready = AudioSegment.silent(duration=vocal_delay_ms) + mic_ready\n",
    "\n",
    "# Make sure both have same length for simple export\n",
    "mix_len = min(len(song_ready), len(mic_ready))\n",
    "mix = song_ready[:mix_len].overlay(mic_ready[:mix_len])\n",
    "\n",
    "print(\"✅ Mix created.\")"
   ]
  },
  {
   "cell_type": "markdown",
   "id": "5c839ed6",
   "metadata": {},
   "source": [
    "## 9) Export and listen\n",
    "We’ll export to **WAV** (lossless) and also show how to export to **MP3**.\n",
    "Then we’ll play the WAV inside Colab.\n"
   ]
  },
  {
   "cell_type": "code",
   "execution_count": null,
   "id": "1d6d80af",
   "metadata": {},
   "outputs": [],
   "source": [
    "#@title Export files and play result\n",
    "final_wav = \"final_mix.wav\"\n",
    "final_mp3 = \"final_mix.mp3\"\n",
    "\n",
    "mix.export(final_wav, format=\"wav\")\n",
    "print(f\"Saved: {final_wav}\")\n",
    "\n",
    "# MP3 needs bitrate; pydub uses ffmpeg to encode\n",
    "mix.export(final_mp3, format=\"mp3\", bitrate=\"192k\")\n",
    "print(f\"Saved: {final_mp3}\")\n",
    "\n",
    "# In-notebook player\n",
    "display(Audio(final_wav))"
   ]
  },
  {
   "cell_type": "markdown",
   "id": "31298080",
   "metadata": {},
   "source": [
    "## 10) Download your files\n",
    "Click to download the **final WAV/MP3** or your original **mic recording**.\n"
   ]
  },
  {
   "cell_type": "code",
   "execution_count": null,
   "id": "a1610be8",
   "metadata": {},
   "outputs": [],
   "source": [
    "#@title Download helpers\n",
    "from google.colab import files\n",
    "\n",
    "print(\"Use these buttons to download your files:\")\n",
    "# These will open file pickers to save locally\n",
    "files.download(\"final_mix.wav\")\n",
    "files.download(\"final_mix.mp3\")\n",
    "files.download(\"mic_recording.wav\")"
   ]
  },
  {
   "cell_type": "markdown",
   "id": "db79ef01",
   "metadata": {},
   "source": [
    "## Extras & Troubleshooting\n",
    "\n",
    "- **My mic is too quiet/loud** → Adjust `mic_gain_db` and `song_gain_db` in step 6.\n",
    "- **Song and voice out of sync** → Try increasing `vocal_delay_ms` in step 8.\n",
    "- **Clicks at start/end** → Enable fades in step 7.\n",
    "- **Different file types** → `pydub` + `ffmpeg` handle many formats (MP3, WAV, M4A, OGG, WEBM).\n",
    "- **Beginner tip** → Keep your peaks around **-6 dB to -3 dB** for clarity and headroom.\n",
    "\n",
    "### How it works (short version)\n",
    "- `pydub.AudioSegment` reads audio and treats it like a “waveform” you can add, slice, and overlay.\n",
    "- `.overlay()` mixes two audio segments together (like stacking tracks in a DAW).\n",
    "- Gain in **dB** is logarithmic; `+6 dB` ≈ double amplitude, `-6 dB` ≈ half.\n",
    "- `ffmpeg` lets `pydub` handle compressed files and format conversions behind the scenes.\n",
    "\n",
    "Happy mixing! 🎶\n"
   ]
  }
 ],
 "metadata": {},
 "nbformat": 4,
 "nbformat_minor": 5
}
